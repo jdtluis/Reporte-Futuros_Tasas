{
 "cells": [
  {
   "cell_type": "markdown",
   "metadata": {},
   "source": [
    "<h1 style=\"text-align:center;\">Reporte de futuros y tasas</h1>"
   ]
  },
  {
   "cell_type": "markdown",
   "metadata": {},
   "source": [
    "## Tasas implicitas de Futuros"
   ]
  },
  {
   "cell_type": "code",
   "execution_count": 1,
   "metadata": {
    "jupyter": {
     "source_hidden": true
    }
   },
   "outputs": [
    {
     "name": "stdout",
     "output_type": "stream",
     "text": [
      "Ultima actualización de datos: 2025-10-27\n"
     ]
    }
   ],
   "source": [
    "\n",
    "import pandas as pd\n",
    "from datetime import date, timedelta\n",
    "from futures_rfx import *\n",
    "from bcra import *\n",
    "from IPython.display import display, HTML\n",
    "import plotly.io as pio\n",
    "#pio.renderers.default = 'notebook_connected'\n",
    "\n",
    "end = date.today()\n",
    "start = end - timedelta(days=30)\n",
    "\n",
    "df = get_futures(start,end)\n",
    "TAMAR_SERIE = get_tamar_serie(start, end ,id_variable=44)\n",
    "bills = get_bills_rates()\n",
    "rates = get_implied_rates(df)\n",
    "\n",
    "volume = df.pivot(index='dateTime',columns='symbol',values=['volume'])\n",
    "volume.columns = volume.columns.droplevel(0)  # Drop the top level of the MultiIndex\n",
    "\n",
    "openInterest = df.pivot(index='dateTime',columns='symbol',values=['openInterest'])\n",
    "openInterest.columns = openInterest.columns.droplevel(0)  # Drop the top level of the MultiIndex\n",
    "last_run = date.today().strftime('%Y-%m-%d')\n",
    "print('Ultima actualización de datos:', last_run)"
   ]
  },
  {
   "cell_type": "code",
   "execution_count": null,
   "metadata": {
    "jupyter": {
     "source_hidden": true
    }
   },
   "outputs": [
    {
     "data": {
      "application/vnd.plotly.v1+json": {
       "config": {
        "plotlyServerURL": "https://plot.ly"
       },
       "data": [
        {
         "mode": "markers+text",
         "name": "Ajuste",
         "text": [
          "1486.00",
          "1541.50",
          "1585.50",
          "1624.00",
          "1655.00",
          "1685.00",
          "1716.50",
          "1747.00",
          "1782.00",
          "1902.50"
         ],
         "textfont": {
          "size": 10
         },
         "textposition": "top right",
         "type": "scatter",
         "x": [
          "2025-10-31",
          "2025-11-28",
          "2025-12-31",
          "2026-01-30",
          "2026-02-27",
          "2026-03-31",
          "2026-04-30",
          "2026-05-29",
          "2026-06-30",
          "2026-09-30"
         ],
         "y": {
          "bdata": "AAAAAAA4l0AAAAAAABaYQAAAAAAAxphAAAAAAABgmUAAAAAAANyZQAAAAAAAVJpAAAAAAADSmkAAAAAAAEybQAAAAAAA2JtAAAAAAAC6nUA=",
          "dtype": "f8"
         }
        },
        {
         "mode": "lines+markers+text",
         "name": "Limite superior",
         "text": [
          "1496.02",
          "1509.98",
          "1526.60",
          "1541.86",
          "1556.25",
          "1572.85",
          "1588.58",
          "1603.94",
          "1621.05",
          "1671.28"
         ],
         "textfont": {
          "size": 10
         },
         "textposition": "top right",
         "type": "scatter",
         "x": [
          "2025-10-31",
          "2025-11-28",
          "2025-12-31",
          "2026-01-30",
          "2026-02-27",
          "2026-03-31",
          "2026-04-30",
          "2026-05-29",
          "2026-06-30",
          "2026-09-30"
         ],
         "y": {
          "bdata": "rkfhehRgl0BSuB6F65eXQGZmZmZm2pdAPQrXo3AXmEAAAAAAAFGYQGZmZmZmk5hAuB6F61HSmED2KFyPwg+ZQDMzMzMzVJlAhetRuB4dmkA=",
          "dtype": "f8"
         }
        },
        {
         "mode": "lines+markers+text",
         "name": "Limite inferior",
         "text": [
          "935.19",
          "926.46",
          "916.28",
          "907.11",
          "898.64",
          "889.06",
          "880.17",
          "871.66",
          "862.37",
          "836.19"
         ],
         "textfont": {
          "size": 10
         },
         "textposition": "top right",
         "type": "scatter",
         "x": [
          "2025-10-31",
          "2025-11-28",
          "2025-12-31",
          "2026-01-30",
          "2026-02-27",
          "2026-03-31",
          "2026-04-30",
          "2026-05-29",
          "2026-06-30",
          "2026-09-30"
         ],
         "y": {
          "bdata": "7FG4HoU5jUBI4XoUrvOMQArXo3A9ooxAexSuR+FYjECF61G4HhWMQBSuR+F6yItAj8L1KFyBi0DhehSuRz2LQClcj8L18opA7FG4HoUhikA=",
          "dtype": "f8"
         }
        }
       ],
       "layout": {
        "height": 600,
        "legend": {
         "title": {
          "text": "Futuros y bandas"
         }
        },
        "template": {
         "data": {
          "bar": [
           {
            "error_x": {
             "color": "#2a3f5f"
            },
            "error_y": {
             "color": "#2a3f5f"
            },
            "marker": {
             "line": {
              "color": "#E5ECF6",
              "width": 0.5
             },
             "pattern": {
              "fillmode": "overlay",
              "size": 10,
              "solidity": 0.2
             }
            },
            "type": "bar"
           }
          ],
          "barpolar": [
           {
            "marker": {
             "line": {
              "color": "#E5ECF6",
              "width": 0.5
             },
             "pattern": {
              "fillmode": "overlay",
              "size": 10,
              "solidity": 0.2
             }
            },
            "type": "barpolar"
           }
          ],
          "carpet": [
           {
            "aaxis": {
             "endlinecolor": "#2a3f5f",
             "gridcolor": "white",
             "linecolor": "white",
             "minorgridcolor": "white",
             "startlinecolor": "#2a3f5f"
            },
            "baxis": {
             "endlinecolor": "#2a3f5f",
             "gridcolor": "white",
             "linecolor": "white",
             "minorgridcolor": "white",
             "startlinecolor": "#2a3f5f"
            },
            "type": "carpet"
           }
          ],
          "choropleth": [
           {
            "colorbar": {
             "outlinewidth": 0,
             "ticks": ""
            },
            "type": "choropleth"
           }
          ],
          "contour": [
           {
            "colorbar": {
             "outlinewidth": 0,
             "ticks": ""
            },
            "colorscale": [
             [
              0,
              "#0d0887"
             ],
             [
              0.1111111111111111,
              "#46039f"
             ],
             [
              0.2222222222222222,
              "#7201a8"
             ],
             [
              0.3333333333333333,
              "#9c179e"
             ],
             [
              0.4444444444444444,
              "#bd3786"
             ],
             [
              0.5555555555555556,
              "#d8576b"
             ],
             [
              0.6666666666666666,
              "#ed7953"
             ],
             [
              0.7777777777777778,
              "#fb9f3a"
             ],
             [
              0.8888888888888888,
              "#fdca26"
             ],
             [
              1,
              "#f0f921"
             ]
            ],
            "type": "contour"
           }
          ],
          "contourcarpet": [
           {
            "colorbar": {
             "outlinewidth": 0,
             "ticks": ""
            },
            "type": "contourcarpet"
           }
          ],
          "heatmap": [
           {
            "colorbar": {
             "outlinewidth": 0,
             "ticks": ""
            },
            "colorscale": [
             [
              0,
              "#0d0887"
             ],
             [
              0.1111111111111111,
              "#46039f"
             ],
             [
              0.2222222222222222,
              "#7201a8"
             ],
             [
              0.3333333333333333,
              "#9c179e"
             ],
             [
              0.4444444444444444,
              "#bd3786"
             ],
             [
              0.5555555555555556,
              "#d8576b"
             ],
             [
              0.6666666666666666,
              "#ed7953"
             ],
             [
              0.7777777777777778,
              "#fb9f3a"
             ],
             [
              0.8888888888888888,
              "#fdca26"
             ],
             [
              1,
              "#f0f921"
             ]
            ],
            "type": "heatmap"
           }
          ],
          "histogram": [
           {
            "marker": {
             "pattern": {
              "fillmode": "overlay",
              "size": 10,
              "solidity": 0.2
             }
            },
            "type": "histogram"
           }
          ],
          "histogram2d": [
           {
            "colorbar": {
             "outlinewidth": 0,
             "ticks": ""
            },
            "colorscale": [
             [
              0,
              "#0d0887"
             ],
             [
              0.1111111111111111,
              "#46039f"
             ],
             [
              0.2222222222222222,
              "#7201a8"
             ],
             [
              0.3333333333333333,
              "#9c179e"
             ],
             [
              0.4444444444444444,
              "#bd3786"
             ],
             [
              0.5555555555555556,
              "#d8576b"
             ],
             [
              0.6666666666666666,
              "#ed7953"
             ],
             [
              0.7777777777777778,
              "#fb9f3a"
             ],
             [
              0.8888888888888888,
              "#fdca26"
             ],
             [
              1,
              "#f0f921"
             ]
            ],
            "type": "histogram2d"
           }
          ],
          "histogram2dcontour": [
           {
            "colorbar": {
             "outlinewidth": 0,
             "ticks": ""
            },
            "colorscale": [
             [
              0,
              "#0d0887"
             ],
             [
              0.1111111111111111,
              "#46039f"
             ],
             [
              0.2222222222222222,
              "#7201a8"
             ],
             [
              0.3333333333333333,
              "#9c179e"
             ],
             [
              0.4444444444444444,
              "#bd3786"
             ],
             [
              0.5555555555555556,
              "#d8576b"
             ],
             [
              0.6666666666666666,
              "#ed7953"
             ],
             [
              0.7777777777777778,
              "#fb9f3a"
             ],
             [
              0.8888888888888888,
              "#fdca26"
             ],
             [
              1,
              "#f0f921"
             ]
            ],
            "type": "histogram2dcontour"
           }
          ],
          "mesh3d": [
           {
            "colorbar": {
             "outlinewidth": 0,
             "ticks": ""
            },
            "type": "mesh3d"
           }
          ],
          "parcoords": [
           {
            "line": {
             "colorbar": {
              "outlinewidth": 0,
              "ticks": ""
             }
            },
            "type": "parcoords"
           }
          ],
          "pie": [
           {
            "automargin": true,
            "type": "pie"
           }
          ],
          "scatter": [
           {
            "fillpattern": {
             "fillmode": "overlay",
             "size": 10,
             "solidity": 0.2
            },
            "type": "scatter"
           }
          ],
          "scatter3d": [
           {
            "line": {
             "colorbar": {
              "outlinewidth": 0,
              "ticks": ""
             }
            },
            "marker": {
             "colorbar": {
              "outlinewidth": 0,
              "ticks": ""
             }
            },
            "type": "scatter3d"
           }
          ],
          "scattercarpet": [
           {
            "marker": {
             "colorbar": {
              "outlinewidth": 0,
              "ticks": ""
             }
            },
            "type": "scattercarpet"
           }
          ],
          "scattergeo": [
           {
            "marker": {
             "colorbar": {
              "outlinewidth": 0,
              "ticks": ""
             }
            },
            "type": "scattergeo"
           }
          ],
          "scattergl": [
           {
            "marker": {
             "colorbar": {
              "outlinewidth": 0,
              "ticks": ""
             }
            },
            "type": "scattergl"
           }
          ],
          "scattermap": [
           {
            "marker": {
             "colorbar": {
              "outlinewidth": 0,
              "ticks": ""
             }
            },
            "type": "scattermap"
           }
          ],
          "scattermapbox": [
           {
            "marker": {
             "colorbar": {
              "outlinewidth": 0,
              "ticks": ""
             }
            },
            "type": "scattermapbox"
           }
          ],
          "scatterpolar": [
           {
            "marker": {
             "colorbar": {
              "outlinewidth": 0,
              "ticks": ""
             }
            },
            "type": "scatterpolar"
           }
          ],
          "scatterpolargl": [
           {
            "marker": {
             "colorbar": {
              "outlinewidth": 0,
              "ticks": ""
             }
            },
            "type": "scatterpolargl"
           }
          ],
          "scatterternary": [
           {
            "marker": {
             "colorbar": {
              "outlinewidth": 0,
              "ticks": ""
             }
            },
            "type": "scatterternary"
           }
          ],
          "surface": [
           {
            "colorbar": {
             "outlinewidth": 0,
             "ticks": ""
            },
            "colorscale": [
             [
              0,
              "#0d0887"
             ],
             [
              0.1111111111111111,
              "#46039f"
             ],
             [
              0.2222222222222222,
              "#7201a8"
             ],
             [
              0.3333333333333333,
              "#9c179e"
             ],
             [
              0.4444444444444444,
              "#bd3786"
             ],
             [
              0.5555555555555556,
              "#d8576b"
             ],
             [
              0.6666666666666666,
              "#ed7953"
             ],
             [
              0.7777777777777778,
              "#fb9f3a"
             ],
             [
              0.8888888888888888,
              "#fdca26"
             ],
             [
              1,
              "#f0f921"
             ]
            ],
            "type": "surface"
           }
          ],
          "table": [
           {
            "cells": {
             "fill": {
              "color": "#EBF0F8"
             },
             "line": {
              "color": "white"
             }
            },
            "header": {
             "fill": {
              "color": "#C8D4E3"
             },
             "line": {
              "color": "white"
             }
            },
            "type": "table"
           }
          ]
         },
         "layout": {
          "annotationdefaults": {
           "arrowcolor": "#2a3f5f",
           "arrowhead": 0,
           "arrowwidth": 1
          },
          "autotypenumbers": "strict",
          "coloraxis": {
           "colorbar": {
            "outlinewidth": 0,
            "ticks": ""
           }
          },
          "colorscale": {
           "diverging": [
            [
             0,
             "#8e0152"
            ],
            [
             0.1,
             "#c51b7d"
            ],
            [
             0.2,
             "#de77ae"
            ],
            [
             0.3,
             "#f1b6da"
            ],
            [
             0.4,
             "#fde0ef"
            ],
            [
             0.5,
             "#f7f7f7"
            ],
            [
             0.6,
             "#e6f5d0"
            ],
            [
             0.7,
             "#b8e186"
            ],
            [
             0.8,
             "#7fbc41"
            ],
            [
             0.9,
             "#4d9221"
            ],
            [
             1,
             "#276419"
            ]
           ],
           "sequential": [
            [
             0,
             "#0d0887"
            ],
            [
             0.1111111111111111,
             "#46039f"
            ],
            [
             0.2222222222222222,
             "#7201a8"
            ],
            [
             0.3333333333333333,
             "#9c179e"
            ],
            [
             0.4444444444444444,
             "#bd3786"
            ],
            [
             0.5555555555555556,
             "#d8576b"
            ],
            [
             0.6666666666666666,
             "#ed7953"
            ],
            [
             0.7777777777777778,
             "#fb9f3a"
            ],
            [
             0.8888888888888888,
             "#fdca26"
            ],
            [
             1,
             "#f0f921"
            ]
           ],
           "sequentialminus": [
            [
             0,
             "#0d0887"
            ],
            [
             0.1111111111111111,
             "#46039f"
            ],
            [
             0.2222222222222222,
             "#7201a8"
            ],
            [
             0.3333333333333333,
             "#9c179e"
            ],
            [
             0.4444444444444444,
             "#bd3786"
            ],
            [
             0.5555555555555556,
             "#d8576b"
            ],
            [
             0.6666666666666666,
             "#ed7953"
            ],
            [
             0.7777777777777778,
             "#fb9f3a"
            ],
            [
             0.8888888888888888,
             "#fdca26"
            ],
            [
             1,
             "#f0f921"
            ]
           ]
          },
          "colorway": [
           "#636efa",
           "#EF553B",
           "#00cc96",
           "#ab63fa",
           "#FFA15A",
           "#19d3f3",
           "#FF6692",
           "#B6E880",
           "#FF97FF",
           "#FECB52"
          ],
          "font": {
           "color": "#2a3f5f"
          },
          "geo": {
           "bgcolor": "white",
           "lakecolor": "white",
           "landcolor": "#E5ECF6",
           "showlakes": true,
           "showland": true,
           "subunitcolor": "white"
          },
          "hoverlabel": {
           "align": "left"
          },
          "hovermode": "closest",
          "mapbox": {
           "style": "light"
          },
          "paper_bgcolor": "white",
          "plot_bgcolor": "#E5ECF6",
          "polar": {
           "angularaxis": {
            "gridcolor": "white",
            "linecolor": "white",
            "ticks": ""
           },
           "bgcolor": "#E5ECF6",
           "radialaxis": {
            "gridcolor": "white",
            "linecolor": "white",
            "ticks": ""
           }
          },
          "scene": {
           "xaxis": {
            "backgroundcolor": "#E5ECF6",
            "gridcolor": "white",
            "gridwidth": 2,
            "linecolor": "white",
            "showbackground": true,
            "ticks": "",
            "zerolinecolor": "white"
           },
           "yaxis": {
            "backgroundcolor": "#E5ECF6",
            "gridcolor": "white",
            "gridwidth": 2,
            "linecolor": "white",
            "showbackground": true,
            "ticks": "",
            "zerolinecolor": "white"
           },
           "zaxis": {
            "backgroundcolor": "#E5ECF6",
            "gridcolor": "white",
            "gridwidth": 2,
            "linecolor": "white",
            "showbackground": true,
            "ticks": "",
            "zerolinecolor": "white"
           }
          },
          "shapedefaults": {
           "line": {
            "color": "#2a3f5f"
           }
          },
          "ternary": {
           "aaxis": {
            "gridcolor": "white",
            "linecolor": "white",
            "ticks": ""
           },
           "baxis": {
            "gridcolor": "white",
            "linecolor": "white",
            "ticks": ""
           },
           "bgcolor": "#E5ECF6",
           "caxis": {
            "gridcolor": "white",
            "linecolor": "white",
            "ticks": ""
           }
          },
          "title": {
           "x": 0.05
          },
          "xaxis": {
           "automargin": true,
           "gridcolor": "white",
           "linecolor": "white",
           "ticks": "",
           "title": {
            "standoff": 15
           },
           "zerolinecolor": "white",
           "zerolinewidth": 2
          },
          "yaxis": {
           "automargin": true,
           "gridcolor": "white",
           "linecolor": "white",
           "ticks": "",
           "title": {
            "standoff": 15
           },
           "zerolinecolor": "white",
           "zerolinewidth": 2
          }
         }
        },
        "title": {
         "text": "Futuros y bandas de flotación BCRA"
        },
        "width": 1000,
        "xaxis": {
         "tickangle": 45,
         "tickformat": "%Y-%m",
         "title": {
          "text": "Fecha"
         }
        },
        "yaxis": {
         "title": {
          "text": "Precios"
         }
        }
       }
      }
     },
     "metadata": {},
     "output_type": "display_data"
    },
    {
     "data": {
      "application/vnd.plotly.v1+json": {
       "config": {
        "plotlyServerURL": "https://plot.ly"
       },
       "data": [
        {
         "mode": "markers+text",
         "name": "DLR012026 (points)",
         "text": [
          "57%",
          "63%",
          "47%",
          "41%",
          "39%",
          "48%",
          "47%",
          "38%",
          "47%",
          "52%",
          "51%",
          "46%",
          "46%",
          "43%",
          "38%",
          "31%",
          "35%"
         ],
         "textposition": "top center",
         "type": "scatter",
         "x": [
          "2025-09-29T00:00:00+00:00",
          "2025-09-30T00:00:00+00:00",
          "2025-10-01T00:00:00+00:00",
          "2025-10-02T00:00:00+00:00",
          "2025-10-03T00:00:00+00:00",
          "2025-10-07T00:00:00+00:00",
          "2025-10-08T00:00:00+00:00",
          "2025-10-09T00:00:00+00:00",
          "2025-10-13T00:00:00+00:00",
          "2025-10-14T00:00:00+00:00",
          "2025-10-15T00:00:00+00:00",
          "2025-10-17T00:00:00+00:00",
          "2025-10-20T00:00:00+00:00",
          "2025-10-21T00:00:00+00:00",
          "2025-10-22T00:00:00+00:00",
          "2025-10-23T00:00:00+00:00",
          "2025-10-24T00:00:00+00:00"
         ],
         "y": {
          "bdata": "6BTkZyNX4j84FakwthDkP3x+GCE82t0/81meB3dn2j+gFRiyutXYP30AUps4ud4/inH+JhQi3j8gY+5aQj7YPwBUceMW890/TS7GwDqO4D86WP/nMF/gP/NaCd0lcd0//wdYq3ZN3T+lZ3qJsUzbP5zAdFq3Qdg/krJF0m700z8ce/ZcpibWPw==",
          "dtype": "f8"
         }
        },
        {
         "mode": "markers+text",
         "name": "DLR022026 (points)",
         "text": [
          "57%",
          "39%",
          "36%",
          "41%",
          "43%",
          "35%",
          "43%",
          "48%",
          "42%",
          "36%",
          "30%",
          "33%"
         ],
         "textposition": "top center",
         "type": "scatter",
         "x": [
          "2025-09-30T00:00:00+00:00",
          "2025-10-02T00:00:00+00:00",
          "2025-10-03T00:00:00+00:00",
          "2025-10-06T00:00:00+00:00",
          "2025-10-08T00:00:00+00:00",
          "2025-10-09T00:00:00+00:00",
          "2025-10-13T00:00:00+00:00",
          "2025-10-15T00:00:00+00:00",
          "2025-10-20T00:00:00+00:00",
          "2025-10-22T00:00:00+00:00",
          "2025-10-23T00:00:00+00:00",
          "2025-10-24T00:00:00+00:00"
         ],
         "y": {
          "bdata": "HGK85lUd4j+DwqBMo8nYP1ciUP2DSNc/6NoX0At32j9Y4ZaPpKTbPxw9fm/Tn9Y/hGVs6GZ/2z8oui784HzeP9jSo6mezNo/GxL3WPrQ1j/kE7LzNjbTP4/bL5+sGNU/",
          "dtype": "f8"
         }
        },
        {
         "mode": "markers+text",
         "name": "DLR052026 (points)",
         "text": [
          "45%",
          "46%",
          "37%",
          "34%",
          "33%",
          "36%",
          "37%",
          "37%",
          "33%",
          "37%",
          "39%",
          "40%",
          "40%",
          "37%",
          "36%",
          "35%",
          "32%",
          "28%",
          "30%"
         ],
         "textposition": "top center",
         "type": "scatter",
         "x": [
          "2025-09-29T00:00:00+00:00",
          "2025-09-30T00:00:00+00:00",
          "2025-10-01T00:00:00+00:00",
          "2025-10-02T00:00:00+00:00",
          "2025-10-03T00:00:00+00:00",
          "2025-10-06T00:00:00+00:00",
          "2025-10-07T00:00:00+00:00",
          "2025-10-08T00:00:00+00:00",
          "2025-10-09T00:00:00+00:00",
          "2025-10-13T00:00:00+00:00",
          "2025-10-14T00:00:00+00:00",
          "2025-10-15T00:00:00+00:00",
          "2025-10-16T00:00:00+00:00",
          "2025-10-17T00:00:00+00:00",
          "2025-10-20T00:00:00+00:00",
          "2025-10-21T00:00:00+00:00",
          "2025-10-22T00:00:00+00:00",
          "2025-10-23T00:00:00+00:00",
          "2025-10-24T00:00:00+00:00"
         ],
         "y": {
          "bdata": "Ux7dCIuK3D/u0LAYda3dP0SLbOf7qdc/3bOu0XKg1T/2Y5P8iF/VP0XzABb59dY/b3uCxHb31z/20D5W8NvXP5yKVBhbCNU/OE2fHXBd1z+8kA4PYfzYP20Dd6BOedk/iuWWVkPi2T+msb0W9N7XPzY+k/3zNNc/31M57Sk51j+6aTNOQ1TUP+WYLO4/MtI//yJozCTq0j8=",
          "dtype": "f8"
         }
        },
        {
         "mode": "markers+text",
         "name": "DLR102025 (points)",
         "text": [
          "77%",
          "62%",
          "31%",
          "26%",
          "39%",
          "42%",
          "44%",
          "-7%",
          "22%",
          "56%",
          "91%",
          "92%",
          "73%",
          "46%",
          "39%",
          "19%",
          "-15%",
          "0%"
         ],
         "textposition": "top center",
         "type": "scatter",
         "x": [
          "2025-09-29T00:00:00+00:00",
          "2025-10-01T00:00:00+00:00",
          "2025-10-02T00:00:00+00:00",
          "2025-10-03T00:00:00+00:00",
          "2025-10-06T00:00:00+00:00",
          "2025-10-07T00:00:00+00:00",
          "2025-10-08T00:00:00+00:00",
          "2025-10-09T00:00:00+00:00",
          "2025-10-13T00:00:00+00:00",
          "2025-10-14T00:00:00+00:00",
          "2025-10-15T00:00:00+00:00",
          "2025-10-16T00:00:00+00:00",
          "2025-10-17T00:00:00+00:00",
          "2025-10-20T00:00:00+00:00",
          "2025-10-21T00:00:00+00:00",
          "2025-10-22T00:00:00+00:00",
          "2025-10-23T00:00:00+00:00",
          "2025-10-24T00:00:00+00:00"
         ],
         "y": {
          "bdata": "reKNzCN/6D8q/1peud7jP3mT36KTpdM/WYl5VtKK0D9R+kLIef/YP23IPzOID9s/mgrxSLw83D9RhxVu+Uiyv4bI6ev5mss/JTyh15/E4T/Ez38PXjvtP2B15EhnYO0/hA8lWvJ45z+v52uWy0bdPwQF3smnx9g/4IEBhA8lyD8WTtL8Ma3Dv+yn/6z58Wc/",
          "dtype": "f8"
         }
        },
        {
         "mode": "markers+text",
         "name": "DLR112025 (points)",
         "text": [
          "71%",
          "82%",
          "57%",
          "44%",
          "41%",
          "52%",
          "57%",
          "59%",
          "37%",
          "49%",
          "65%",
          "71%",
          "72%",
          "60%",
          "54%",
          "49%",
          "42%",
          "32%",
          "39%"
         ],
         "textposition": "top center",
         "type": "scatter",
         "x": [
          "2025-09-29T00:00:00+00:00",
          "2025-09-30T00:00:00+00:00",
          "2025-10-01T00:00:00+00:00",
          "2025-10-02T00:00:00+00:00",
          "2025-10-03T00:00:00+00:00",
          "2025-10-06T00:00:00+00:00",
          "2025-10-07T00:00:00+00:00",
          "2025-10-08T00:00:00+00:00",
          "2025-10-09T00:00:00+00:00",
          "2025-10-13T00:00:00+00:00",
          "2025-10-14T00:00:00+00:00",
          "2025-10-15T00:00:00+00:00",
          "2025-10-16T00:00:00+00:00",
          "2025-10-17T00:00:00+00:00",
          "2025-10-20T00:00:00+00:00",
          "2025-10-21T00:00:00+00:00",
          "2025-10-22T00:00:00+00:00",
          "2025-10-23T00:00:00+00:00",
          "2025-10-24T00:00:00+00:00"
         ],
         "y": {
          "bdata": "MX4a9+a35j92+6wyU1rqP79lTpfFROI/BD4/jBAe3D/SyVLr/UbaP4SYS6q2m+A/MVwdAHFX4j+HGRpPBPHiP4OI1LSLadc/qio0EMtm3z+bjZWYZ6XkP1cIq7GEteY/T3Rd+MH55j82WaMeolHjP7NeDOVEO+E/oQ4r3PKR3z/NH9PaNLbaP6/JGvUQjdQ/jfLMy2H32D8=",
          "dtype": "f8"
         }
        },
        {
         "mode": "markers+text",
         "name": "DLR122025 (points)",
         "text": [
          "64%",
          "70%",
          "51%",
          "44%",
          "40%",
          "48%",
          "52%",
          "51%",
          "39%",
          "48%",
          "55%",
          "58%",
          "59%",
          "50%",
          "48%",
          "44%",
          "38%",
          "31%",
          "37%"
         ],
         "textposition": "top center",
         "type": "scatter",
         "x": [
          "2025-09-29T00:00:00+00:00",
          "2025-09-30T00:00:00+00:00",
          "2025-10-01T00:00:00+00:00",
          "2025-10-02T00:00:00+00:00",
          "2025-10-03T00:00:00+00:00",
          "2025-10-06T00:00:00+00:00",
          "2025-10-07T00:00:00+00:00",
          "2025-10-08T00:00:00+00:00",
          "2025-10-09T00:00:00+00:00",
          "2025-10-13T00:00:00+00:00",
          "2025-10-14T00:00:00+00:00",
          "2025-10-15T00:00:00+00:00",
          "2025-10-16T00:00:00+00:00",
          "2025-10-17T00:00:00+00:00",
          "2025-10-20T00:00:00+00:00",
          "2025-10-21T00:00:00+00:00",
          "2025-10-22T00:00:00+00:00",
          "2025-10-23T00:00:00+00:00",
          "2025-10-24T00:00:00+00:00"
         ],
         "y": {
          "bdata": "PPpfrkWL5D8/xty1hHzmP8pRgCiYMeA/wR2oUx7d2z/3eCEdHsLZP/qE7LyNzd4/H/KWqx+b4D8yrrg4KjfgPwZlGk0uxtg/4SGMn8a93j/4ja89s6ThP+Y7+IkDaOI/QrKACdy64j8lICbhQh7gP2zRArStZt4/OLwgIjXt2z/WkSOdgZHYP7O4/8h06NM/81gzMshd1z8=",
          "dtype": "f8"
         }
        }
       ],
       "layout": {
        "height": 600,
        "hovermode": "x unified",
        "legend": {
         "title": {
          "text": "Implied Rates"
         }
        },
        "template": {
         "data": {
          "bar": [
           {
            "error_x": {
             "color": "#2a3f5f"
            },
            "error_y": {
             "color": "#2a3f5f"
            },
            "marker": {
             "line": {
              "color": "#E5ECF6",
              "width": 0.5
             },
             "pattern": {
              "fillmode": "overlay",
              "size": 10,
              "solidity": 0.2
             }
            },
            "type": "bar"
           }
          ],
          "barpolar": [
           {
            "marker": {
             "line": {
              "color": "#E5ECF6",
              "width": 0.5
             },
             "pattern": {
              "fillmode": "overlay",
              "size": 10,
              "solidity": 0.2
             }
            },
            "type": "barpolar"
           }
          ],
          "carpet": [
           {
            "aaxis": {
             "endlinecolor": "#2a3f5f",
             "gridcolor": "white",
             "linecolor": "white",
             "minorgridcolor": "white",
             "startlinecolor": "#2a3f5f"
            },
            "baxis": {
             "endlinecolor": "#2a3f5f",
             "gridcolor": "white",
             "linecolor": "white",
             "minorgridcolor": "white",
             "startlinecolor": "#2a3f5f"
            },
            "type": "carpet"
           }
          ],
          "choropleth": [
           {
            "colorbar": {
             "outlinewidth": 0,
             "ticks": ""
            },
            "type": "choropleth"
           }
          ],
          "contour": [
           {
            "colorbar": {
             "outlinewidth": 0,
             "ticks": ""
            },
            "colorscale": [
             [
              0,
              "#0d0887"
             ],
             [
              0.1111111111111111,
              "#46039f"
             ],
             [
              0.2222222222222222,
              "#7201a8"
             ],
             [
              0.3333333333333333,
              "#9c179e"
             ],
             [
              0.4444444444444444,
              "#bd3786"
             ],
             [
              0.5555555555555556,
              "#d8576b"
             ],
             [
              0.6666666666666666,
              "#ed7953"
             ],
             [
              0.7777777777777778,
              "#fb9f3a"
             ],
             [
              0.8888888888888888,
              "#fdca26"
             ],
             [
              1,
              "#f0f921"
             ]
            ],
            "type": "contour"
           }
          ],
          "contourcarpet": [
           {
            "colorbar": {
             "outlinewidth": 0,
             "ticks": ""
            },
            "type": "contourcarpet"
           }
          ],
          "heatmap": [
           {
            "colorbar": {
             "outlinewidth": 0,
             "ticks": ""
            },
            "colorscale": [
             [
              0,
              "#0d0887"
             ],
             [
              0.1111111111111111,
              "#46039f"
             ],
             [
              0.2222222222222222,
              "#7201a8"
             ],
             [
              0.3333333333333333,
              "#9c179e"
             ],
             [
              0.4444444444444444,
              "#bd3786"
             ],
             [
              0.5555555555555556,
              "#d8576b"
             ],
             [
              0.6666666666666666,
              "#ed7953"
             ],
             [
              0.7777777777777778,
              "#fb9f3a"
             ],
             [
              0.8888888888888888,
              "#fdca26"
             ],
             [
              1,
              "#f0f921"
             ]
            ],
            "type": "heatmap"
           }
          ],
          "histogram": [
           {
            "marker": {
             "pattern": {
              "fillmode": "overlay",
              "size": 10,
              "solidity": 0.2
             }
            },
            "type": "histogram"
           }
          ],
          "histogram2d": [
           {
            "colorbar": {
             "outlinewidth": 0,
             "ticks": ""
            },
            "colorscale": [
             [
              0,
              "#0d0887"
             ],
             [
              0.1111111111111111,
              "#46039f"
             ],
             [
              0.2222222222222222,
              "#7201a8"
             ],
             [
              0.3333333333333333,
              "#9c179e"
             ],
             [
              0.4444444444444444,
              "#bd3786"
             ],
             [
              0.5555555555555556,
              "#d8576b"
             ],
             [
              0.6666666666666666,
              "#ed7953"
             ],
             [
              0.7777777777777778,
              "#fb9f3a"
             ],
             [
              0.8888888888888888,
              "#fdca26"
             ],
             [
              1,
              "#f0f921"
             ]
            ],
            "type": "histogram2d"
           }
          ],
          "histogram2dcontour": [
           {
            "colorbar": {
             "outlinewidth": 0,
             "ticks": ""
            },
            "colorscale": [
             [
              0,
              "#0d0887"
             ],
             [
              0.1111111111111111,
              "#46039f"
             ],
             [
              0.2222222222222222,
              "#7201a8"
             ],
             [
              0.3333333333333333,
              "#9c179e"
             ],
             [
              0.4444444444444444,
              "#bd3786"
             ],
             [
              0.5555555555555556,
              "#d8576b"
             ],
             [
              0.6666666666666666,
              "#ed7953"
             ],
             [
              0.7777777777777778,
              "#fb9f3a"
             ],
             [
              0.8888888888888888,
              "#fdca26"
             ],
             [
              1,
              "#f0f921"
             ]
            ],
            "type": "histogram2dcontour"
           }
          ],
          "mesh3d": [
           {
            "colorbar": {
             "outlinewidth": 0,
             "ticks": ""
            },
            "type": "mesh3d"
           }
          ],
          "parcoords": [
           {
            "line": {
             "colorbar": {
              "outlinewidth": 0,
              "ticks": ""
             }
            },
            "type": "parcoords"
           }
          ],
          "pie": [
           {
            "automargin": true,
            "type": "pie"
           }
          ],
          "scatter": [
           {
            "fillpattern": {
             "fillmode": "overlay",
             "size": 10,
             "solidity": 0.2
            },
            "type": "scatter"
           }
          ],
          "scatter3d": [
           {
            "line": {
             "colorbar": {
              "outlinewidth": 0,
              "ticks": ""
             }
            },
            "marker": {
             "colorbar": {
              "outlinewidth": 0,
              "ticks": ""
             }
            },
            "type": "scatter3d"
           }
          ],
          "scattercarpet": [
           {
            "marker": {
             "colorbar": {
              "outlinewidth": 0,
              "ticks": ""
             }
            },
            "type": "scattercarpet"
           }
          ],
          "scattergeo": [
           {
            "marker": {
             "colorbar": {
              "outlinewidth": 0,
              "ticks": ""
             }
            },
            "type": "scattergeo"
           }
          ],
          "scattergl": [
           {
            "marker": {
             "colorbar": {
              "outlinewidth": 0,
              "ticks": ""
             }
            },
            "type": "scattergl"
           }
          ],
          "scattermap": [
           {
            "marker": {
             "colorbar": {
              "outlinewidth": 0,
              "ticks": ""
             }
            },
            "type": "scattermap"
           }
          ],
          "scattermapbox": [
           {
            "marker": {
             "colorbar": {
              "outlinewidth": 0,
              "ticks": ""
             }
            },
            "type": "scattermapbox"
           }
          ],
          "scatterpolar": [
           {
            "marker": {
             "colorbar": {
              "outlinewidth": 0,
              "ticks": ""
             }
            },
            "type": "scatterpolar"
           }
          ],
          "scatterpolargl": [
           {
            "marker": {
             "colorbar": {
              "outlinewidth": 0,
              "ticks": ""
             }
            },
            "type": "scatterpolargl"
           }
          ],
          "scatterternary": [
           {
            "marker": {
             "colorbar": {
              "outlinewidth": 0,
              "ticks": ""
             }
            },
            "type": "scatterternary"
           }
          ],
          "surface": [
           {
            "colorbar": {
             "outlinewidth": 0,
             "ticks": ""
            },
            "colorscale": [
             [
              0,
              "#0d0887"
             ],
             [
              0.1111111111111111,
              "#46039f"
             ],
             [
              0.2222222222222222,
              "#7201a8"
             ],
             [
              0.3333333333333333,
              "#9c179e"
             ],
             [
              0.4444444444444444,
              "#bd3786"
             ],
             [
              0.5555555555555556,
              "#d8576b"
             ],
             [
              0.6666666666666666,
              "#ed7953"
             ],
             [
              0.7777777777777778,
              "#fb9f3a"
             ],
             [
              0.8888888888888888,
              "#fdca26"
             ],
             [
              1,
              "#f0f921"
             ]
            ],
            "type": "surface"
           }
          ],
          "table": [
           {
            "cells": {
             "fill": {
              "color": "#EBF0F8"
             },
             "line": {
              "color": "white"
             }
            },
            "header": {
             "fill": {
              "color": "#C8D4E3"
             },
             "line": {
              "color": "white"
             }
            },
            "type": "table"
           }
          ]
         },
         "layout": {
          "annotationdefaults": {
           "arrowcolor": "#2a3f5f",
           "arrowhead": 0,
           "arrowwidth": 1
          },
          "autotypenumbers": "strict",
          "coloraxis": {
           "colorbar": {
            "outlinewidth": 0,
            "ticks": ""
           }
          },
          "colorscale": {
           "diverging": [
            [
             0,
             "#8e0152"
            ],
            [
             0.1,
             "#c51b7d"
            ],
            [
             0.2,
             "#de77ae"
            ],
            [
             0.3,
             "#f1b6da"
            ],
            [
             0.4,
             "#fde0ef"
            ],
            [
             0.5,
             "#f7f7f7"
            ],
            [
             0.6,
             "#e6f5d0"
            ],
            [
             0.7,
             "#b8e186"
            ],
            [
             0.8,
             "#7fbc41"
            ],
            [
             0.9,
             "#4d9221"
            ],
            [
             1,
             "#276419"
            ]
           ],
           "sequential": [
            [
             0,
             "#0d0887"
            ],
            [
             0.1111111111111111,
             "#46039f"
            ],
            [
             0.2222222222222222,
             "#7201a8"
            ],
            [
             0.3333333333333333,
             "#9c179e"
            ],
            [
             0.4444444444444444,
             "#bd3786"
            ],
            [
             0.5555555555555556,
             "#d8576b"
            ],
            [
             0.6666666666666666,
             "#ed7953"
            ],
            [
             0.7777777777777778,
             "#fb9f3a"
            ],
            [
             0.8888888888888888,
             "#fdca26"
            ],
            [
             1,
             "#f0f921"
            ]
           ],
           "sequentialminus": [
            [
             0,
             "#0d0887"
            ],
            [
             0.1111111111111111,
             "#46039f"
            ],
            [
             0.2222222222222222,
             "#7201a8"
            ],
            [
             0.3333333333333333,
             "#9c179e"
            ],
            [
             0.4444444444444444,
             "#bd3786"
            ],
            [
             0.5555555555555556,
             "#d8576b"
            ],
            [
             0.6666666666666666,
             "#ed7953"
            ],
            [
             0.7777777777777778,
             "#fb9f3a"
            ],
            [
             0.8888888888888888,
             "#fdca26"
            ],
            [
             1,
             "#f0f921"
            ]
           ]
          },
          "colorway": [
           "#636efa",
           "#EF553B",
           "#00cc96",
           "#ab63fa",
           "#FFA15A",
           "#19d3f3",
           "#FF6692",
           "#B6E880",
           "#FF97FF",
           "#FECB52"
          ],
          "font": {
           "color": "#2a3f5f"
          },
          "geo": {
           "bgcolor": "white",
           "lakecolor": "white",
           "landcolor": "#E5ECF6",
           "showlakes": true,
           "showland": true,
           "subunitcolor": "white"
          },
          "hoverlabel": {
           "align": "left"
          },
          "hovermode": "closest",
          "mapbox": {
           "style": "light"
          },
          "paper_bgcolor": "white",
          "plot_bgcolor": "#E5ECF6",
          "polar": {
           "angularaxis": {
            "gridcolor": "white",
            "linecolor": "white",
            "ticks": ""
           },
           "bgcolor": "#E5ECF6",
           "radialaxis": {
            "gridcolor": "white",
            "linecolor": "white",
            "ticks": ""
           }
          },
          "scene": {
           "xaxis": {
            "backgroundcolor": "#E5ECF6",
            "gridcolor": "white",
            "gridwidth": 2,
            "linecolor": "white",
            "showbackground": true,
            "ticks": "",
            "zerolinecolor": "white"
           },
           "yaxis": {
            "backgroundcolor": "#E5ECF6",
            "gridcolor": "white",
            "gridwidth": 2,
            "linecolor": "white",
            "showbackground": true,
            "ticks": "",
            "zerolinecolor": "white"
           },
           "zaxis": {
            "backgroundcolor": "#E5ECF6",
            "gridcolor": "white",
            "gridwidth": 2,
            "linecolor": "white",
            "showbackground": true,
            "ticks": "",
            "zerolinecolor": "white"
           }
          },
          "shapedefaults": {
           "line": {
            "color": "#2a3f5f"
           }
          },
          "ternary": {
           "aaxis": {
            "gridcolor": "white",
            "linecolor": "white",
            "ticks": ""
           },
           "baxis": {
            "gridcolor": "white",
            "linecolor": "white",
            "ticks": ""
           },
           "bgcolor": "#E5ECF6",
           "caxis": {
            "gridcolor": "white",
            "linecolor": "white",
            "ticks": ""
           }
          },
          "title": {
           "x": 0.05
          },
          "xaxis": {
           "automargin": true,
           "gridcolor": "white",
           "linecolor": "white",
           "ticks": "",
           "title": {
            "standoff": 15
           },
           "zerolinecolor": "white",
           "zerolinewidth": 2
          },
          "yaxis": {
           "automargin": true,
           "gridcolor": "white",
           "linecolor": "white",
           "ticks": "",
           "title": {
            "standoff": 15
           },
           "zerolinecolor": "white",
           "zerolinewidth": 2
          }
         }
        },
        "title": {
         "text": "Tasas implícitas por contrato y fecha"
        },
        "width": 1000,
        "xaxis": {
         "title": {
          "text": "Fecha"
         }
        },
        "yaxis": {
         "tickformat": ".0%",
         "title": {
          "text": "Tasa implícita (%)"
         }
        }
       }
      }
     },
     "metadata": {},
     "output_type": "display_data"
    },
    {
     "data": {
      "text/html": [
       "<style type=\"text/css\">\n",
       "#T_a8bf7_row0_col0 {\n",
       "  background-color: #ca0923;\n",
       "  color: #f1f1f1;\n",
       "}\n",
       "#T_a8bf7_row0_col1, #T_a8bf7_row2_col1, #T_a8bf7_row5_col0, #T_a8bf7_row6_col1, #T_a8bf7_row10_col1, #T_a8bf7_row12_col0, #T_a8bf7_row12_col1, #T_a8bf7_row13_col1, #T_a8bf7_row15_col1 {\n",
       "  background-color: #000000;\n",
       "  color: #f1f1f1;\n",
       "}\n",
       "#T_a8bf7_row0_col2 {\n",
       "  background-color: #b00026;\n",
       "  color: #f1f1f1;\n",
       "}\n",
       "#T_a8bf7_row0_col3 {\n",
       "  background-color: #e61f1d;\n",
       "  color: #f1f1f1;\n",
       "}\n",
       "#T_a8bf7_row0_col4 {\n",
       "  background-color: #db141e;\n",
       "  color: #f1f1f1;\n",
       "}\n",
       "#T_a8bf7_row0_col5 {\n",
       "  background-color: #c50624;\n",
       "  color: #f1f1f1;\n",
       "}\n",
       "#T_a8bf7_row1_col0, #T_a8bf7_row1_col1, #T_a8bf7_row1_col2, #T_a8bf7_row1_col3, #T_a8bf7_row1_col4, #T_a8bf7_row1_col5 {\n",
       "  background-color: #800026;\n",
       "  color: #f1f1f1;\n",
       "}\n",
       "#T_a8bf7_row2_col0, #T_a8bf7_row13_col5, #T_a8bf7_row14_col3 {\n",
       "  background-color: #fd903d;\n",
       "  color: #000000;\n",
       "}\n",
       "#T_a8bf7_row2_col2, #T_a8bf7_row7_col3 {\n",
       "  background-color: #fd953f;\n",
       "  color: #000000;\n",
       "}\n",
       "#T_a8bf7_row2_col3 {\n",
       "  background-color: #fc512b;\n",
       "  color: #f1f1f1;\n",
       "}\n",
       "#T_a8bf7_row2_col4, #T_a8bf7_row2_col5, #T_a8bf7_row7_col5 {\n",
       "  background-color: #fd8e3c;\n",
       "  color: #f1f1f1;\n",
       "}\n",
       "#T_a8bf7_row3_col0, #T_a8bf7_row3_col5, #T_a8bf7_row15_col5 {\n",
       "  background-color: #fec45f;\n",
       "  color: #000000;\n",
       "}\n",
       "#T_a8bf7_row3_col1 {\n",
       "  background-color: #fec15d;\n",
       "  color: #000000;\n",
       "}\n",
       "#T_a8bf7_row3_col2 {\n",
       "  background-color: #feca66;\n",
       "  color: #000000;\n",
       "}\n",
       "#T_a8bf7_row3_col3 {\n",
       "  background-color: #feb44e;\n",
       "  color: #000000;\n",
       "}\n",
       "#T_a8bf7_row3_col4 {\n",
       "  background-color: #fedb7b;\n",
       "  color: #000000;\n",
       "}\n",
       "#T_a8bf7_row4_col0, #T_a8bf7_row4_col1 {\n",
       "  background-color: #fedb7a;\n",
       "  color: #000000;\n",
       "}\n",
       "#T_a8bf7_row4_col2, #T_a8bf7_row16_col3 {\n",
       "  background-color: #fed16e;\n",
       "  color: #000000;\n",
       "}\n",
       "#T_a8bf7_row4_col3 {\n",
       "  background-color: #fec05b;\n",
       "  color: #000000;\n",
       "}\n",
       "#T_a8bf7_row4_col4 {\n",
       "  background-color: #ffe58f;\n",
       "  color: #000000;\n",
       "}\n",
       "#T_a8bf7_row4_col5 {\n",
       "  background-color: #fedc7c;\n",
       "  color: #000000;\n",
       "}\n",
       "#T_a8bf7_row5_col1 {\n",
       "  background-color: #fea245;\n",
       "  color: #000000;\n",
       "}\n",
       "#T_a8bf7_row5_col2 {\n",
       "  background-color: #fea647;\n",
       "  color: #000000;\n",
       "}\n",
       "#T_a8bf7_row5_col3, #T_a8bf7_row5_col5, #T_a8bf7_row14_col2 {\n",
       "  background-color: #fea044;\n",
       "  color: #000000;\n",
       "}\n",
       "#T_a8bf7_row5_col4 {\n",
       "  background-color: #fead4a;\n",
       "  color: #000000;\n",
       "}\n",
       "#T_a8bf7_row6_col0 {\n",
       "  background-color: #fd7c37;\n",
       "  color: #f1f1f1;\n",
       "}\n",
       "#T_a8bf7_row6_col2, #T_a8bf7_row6_col4 {\n",
       "  background-color: #fd8c3c;\n",
       "  color: #f1f1f1;\n",
       "}\n",
       "#T_a8bf7_row6_col3 {\n",
       "  background-color: #fd9941;\n",
       "  color: #000000;\n",
       "}\n",
       "#T_a8bf7_row6_col5 {\n",
       "  background-color: #fd7e38;\n",
       "  color: #f1f1f1;\n",
       "}\n",
       "#T_a8bf7_row7_col0 {\n",
       "  background-color: #fd8a3b;\n",
       "  color: #f1f1f1;\n",
       "}\n",
       "#T_a8bf7_row7_col1, #T_a8bf7_row7_col2, #T_a8bf7_row9_col0, #T_a8bf7_row13_col2 {\n",
       "  background-color: #fd8f3d;\n",
       "  color: #f1f1f1;\n",
       "}\n",
       "#T_a8bf7_row7_col4 {\n",
       "  background-color: #fd7a37;\n",
       "  color: #f1f1f1;\n",
       "}\n",
       "#T_a8bf7_row8_col0, #T_a8bf7_row16_col0, #T_a8bf7_row16_col1 {\n",
       "  background-color: #fedf83;\n",
       "  color: #000000;\n",
       "}\n",
       "#T_a8bf7_row8_col1 {\n",
       "  background-color: #fee187;\n",
       "  color: #000000;\n",
       "}\n",
       "#T_a8bf7_row8_col2 {\n",
       "  background-color: #fed977;\n",
       "  color: #000000;\n",
       "}\n",
       "#T_a8bf7_row8_col3, #T_a8bf7_row18_col2 {\n",
       "  background-color: #fff6b6;\n",
       "  color: #000000;\n",
       "}\n",
       "#T_a8bf7_row8_col4 {\n",
       "  background-color: #fff3ae;\n",
       "  color: #000000;\n",
       "}\n",
       "#T_a8bf7_row8_col5, #T_a8bf7_row16_col4 {\n",
       "  background-color: #fee289;\n",
       "  color: #000000;\n",
       "}\n",
       "#T_a8bf7_row9_col1 {\n",
       "  background-color: #fd913e;\n",
       "  color: #000000;\n",
       "}\n",
       "#T_a8bf7_row9_col2 {\n",
       "  background-color: #fd9c42;\n",
       "  color: #000000;\n",
       "}\n",
       "#T_a8bf7_row9_col3 {\n",
       "  background-color: #fecb67;\n",
       "  color: #000000;\n",
       "}\n",
       "#T_a8bf7_row9_col4 {\n",
       "  background-color: #febe59;\n",
       "  color: #000000;\n",
       "}\n",
       "#T_a8bf7_row9_col5, #T_a8bf7_row14_col4, #T_a8bf7_row15_col3 {\n",
       "  background-color: #fea145;\n",
       "  color: #000000;\n",
       "}\n",
       "#T_a8bf7_row10_col0 {\n",
       "  background-color: #f74327;\n",
       "  color: #f1f1f1;\n",
       "}\n",
       "#T_a8bf7_row10_col2 {\n",
       "  background-color: #fc5f2f;\n",
       "  color: #f1f1f1;\n",
       "}\n",
       "#T_a8bf7_row10_col3 {\n",
       "  background-color: #fc6a32;\n",
       "  color: #f1f1f1;\n",
       "}\n",
       "#T_a8bf7_row10_col4 {\n",
       "  background-color: #f84528;\n",
       "  color: #f1f1f1;\n",
       "}\n",
       "#T_a8bf7_row10_col5 {\n",
       "  background-color: #fc532b;\n",
       "  color: #f1f1f1;\n",
       "}\n",
       "#T_a8bf7_row11_col0, #T_a8bf7_row11_col2 {\n",
       "  background-color: #fa4a29;\n",
       "  color: #f1f1f1;\n",
       "}\n",
       "#T_a8bf7_row11_col1 {\n",
       "  background-color: #f43e26;\n",
       "  color: #f1f1f1;\n",
       "}\n",
       "#T_a8bf7_row11_col3 {\n",
       "  background-color: #c30424;\n",
       "  color: #f1f1f1;\n",
       "}\n",
       "#T_a8bf7_row11_col4 {\n",
       "  background-color: #dc151e;\n",
       "  color: #f1f1f1;\n",
       "}\n",
       "#T_a8bf7_row11_col5 {\n",
       "  background-color: #f23924;\n",
       "  color: #f1f1f1;\n",
       "}\n",
       "#T_a8bf7_row12_col2 {\n",
       "  background-color: #f33b25;\n",
       "  color: #f1f1f1;\n",
       "}\n",
       "#T_a8bf7_row12_col3 {\n",
       "  background-color: #c20325;\n",
       "  color: #f1f1f1;\n",
       "}\n",
       "#T_a8bf7_row12_col4 {\n",
       "  background-color: #d6111f;\n",
       "  color: #f1f1f1;\n",
       "}\n",
       "#T_a8bf7_row12_col5 {\n",
       "  background-color: #ed2e21;\n",
       "  color: #f1f1f1;\n",
       "}\n",
       "#T_a8bf7_row13_col0 {\n",
       "  background-color: #fd9640;\n",
       "  color: #000000;\n",
       "}\n",
       "#T_a8bf7_row13_col3 {\n",
       "  background-color: #eb2b21;\n",
       "  color: #f1f1f1;\n",
       "}\n",
       "#T_a8bf7_row13_col4 {\n",
       "  background-color: #fd6e33;\n",
       "  color: #f1f1f1;\n",
       "}\n",
       "#T_a8bf7_row14_col0 {\n",
       "  background-color: #fd9841;\n",
       "  color: #000000;\n",
       "}\n",
       "#T_a8bf7_row14_col1 {\n",
       "  background-color: #fd9d43;\n",
       "  color: #000000;\n",
       "}\n",
       "#T_a8bf7_row14_col5 {\n",
       "  background-color: #fea546;\n",
       "  color: #000000;\n",
       "}\n",
       "#T_a8bf7_row15_col0 {\n",
       "  background-color: #feb54f;\n",
       "  color: #000000;\n",
       "}\n",
       "#T_a8bf7_row15_col2 {\n",
       "  background-color: #feba55;\n",
       "  color: #000000;\n",
       "}\n",
       "#T_a8bf7_row15_col4 {\n",
       "  background-color: #febd57;\n",
       "  color: #000000;\n",
       "}\n",
       "#T_a8bf7_row16_col2, #T_a8bf7_row16_col5 {\n",
       "  background-color: #ffe48c;\n",
       "  color: #000000;\n",
       "}\n",
       "#T_a8bf7_row17_col0, #T_a8bf7_row17_col1, #T_a8bf7_row17_col2, #T_a8bf7_row17_col3, #T_a8bf7_row17_col4, #T_a8bf7_row17_col5 {\n",
       "  background-color: #ffffcc;\n",
       "  color: #000000;\n",
       "}\n",
       "#T_a8bf7_row18_col0 {\n",
       "  background-color: #fff0a7;\n",
       "  color: #000000;\n",
       "}\n",
       "#T_a8bf7_row18_col1 {\n",
       "  background-color: #ffefa5;\n",
       "  color: #000000;\n",
       "}\n",
       "#T_a8bf7_row18_col3 {\n",
       "  background-color: #ffeda0;\n",
       "  color: #000000;\n",
       "}\n",
       "#T_a8bf7_row18_col4, #T_a8bf7_row18_col5 {\n",
       "  background-color: #ffeb9c;\n",
       "  color: #000000;\n",
       "}\n",
       "</style>\n",
       "<table style=\"font-size:10px\" id=\"T_a8bf7\">\n",
       "  <thead>\n",
       "    <tr>\n",
       "      <th class=\"index_name level0\" >symbol</th>\n",
       "      <th id=\"T_a8bf7_level0_col0\" class=\"col_heading level0 col0\" >DLR012026</th>\n",
       "      <th id=\"T_a8bf7_level0_col1\" class=\"col_heading level0 col1\" >DLR022026</th>\n",
       "      <th id=\"T_a8bf7_level0_col2\" class=\"col_heading level0 col2\" >DLR052026</th>\n",
       "      <th id=\"T_a8bf7_level0_col3\" class=\"col_heading level0 col3\" >DLR102025</th>\n",
       "      <th id=\"T_a8bf7_level0_col4\" class=\"col_heading level0 col4\" >DLR112025</th>\n",
       "      <th id=\"T_a8bf7_level0_col5\" class=\"col_heading level0 col5\" >DLR122025</th>\n",
       "    </tr>\n",
       "    <tr>\n",
       "      <th class=\"index_name level0\" >dateTime</th>\n",
       "      <th class=\"blank col0\" >&nbsp;</th>\n",
       "      <th class=\"blank col1\" >&nbsp;</th>\n",
       "      <th class=\"blank col2\" >&nbsp;</th>\n",
       "      <th class=\"blank col3\" >&nbsp;</th>\n",
       "      <th class=\"blank col4\" >&nbsp;</th>\n",
       "      <th class=\"blank col5\" >&nbsp;</th>\n",
       "    </tr>\n",
       "  </thead>\n",
       "  <tbody>\n",
       "    <tr>\n",
       "      <th id=\"T_a8bf7_level0_row0\" class=\"row_heading level0 row0\" >2025-09-29</th>\n",
       "      <td id=\"T_a8bf7_row0_col0\" class=\"data row0 col0\" >57.3%</td>\n",
       "      <td id=\"T_a8bf7_row0_col1\" class=\"data row0 col1\" >nan%</td>\n",
       "      <td id=\"T_a8bf7_row0_col2\" class=\"data row0 col2\" >44.6%</td>\n",
       "      <td id=\"T_a8bf7_row0_col3\" class=\"data row0 col3\" >76.6%</td>\n",
       "      <td id=\"T_a8bf7_row0_col4\" class=\"data row0 col4\" >71.0%</td>\n",
       "      <td id=\"T_a8bf7_row0_col5\" class=\"data row0 col5\" >64.2%</td>\n",
       "    </tr>\n",
       "    <tr>\n",
       "      <th id=\"T_a8bf7_level0_row1\" class=\"row_heading level0 row1\" >2025-09-30</th>\n",
       "      <td id=\"T_a8bf7_row1_col0\" class=\"data row1 col0\" >62.7%</td>\n",
       "      <td id=\"T_a8bf7_row1_col1\" class=\"data row1 col1\" >56.6%</td>\n",
       "      <td id=\"T_a8bf7_row1_col2\" class=\"data row1 col2\" >46.4%</td>\n",
       "      <td id=\"T_a8bf7_row1_col3\" class=\"data row1 col3\" >109.8%</td>\n",
       "      <td id=\"T_a8bf7_row1_col4\" class=\"data row1 col4\" >82.4%</td>\n",
       "      <td id=\"T_a8bf7_row1_col5\" class=\"data row1 col5\" >70.3%</td>\n",
       "    </tr>\n",
       "    <tr>\n",
       "      <th id=\"T_a8bf7_level0_row2\" class=\"row_heading level0 row2\" >2025-10-01</th>\n",
       "      <td id=\"T_a8bf7_row2_col0\" class=\"data row2 col0\" >46.6%</td>\n",
       "      <td id=\"T_a8bf7_row2_col1\" class=\"data row2 col1\" >nan%</td>\n",
       "      <td id=\"T_a8bf7_row2_col2\" class=\"data row2 col2\" >37.0%</td>\n",
       "      <td id=\"T_a8bf7_row2_col3\" class=\"data row2 col3\" >62.1%</td>\n",
       "      <td id=\"T_a8bf7_row2_col4\" class=\"data row2 col4\" >57.1%</td>\n",
       "      <td id=\"T_a8bf7_row2_col5\" class=\"data row2 col5\" >50.6%</td>\n",
       "    </tr>\n",
       "    <tr>\n",
       "      <th id=\"T_a8bf7_level0_row3\" class=\"row_heading level0 row3\" >2025-10-02</th>\n",
       "      <td id=\"T_a8bf7_row3_col0\" class=\"data row3 col0\" >41.3%</td>\n",
       "      <td id=\"T_a8bf7_row3_col1\" class=\"data row3 col1\" >38.7%</td>\n",
       "      <td id=\"T_a8bf7_row3_col2\" class=\"data row3 col2\" >33.8%</td>\n",
       "      <td id=\"T_a8bf7_row3_col3\" class=\"data row3 col3\" >30.7%</td>\n",
       "      <td id=\"T_a8bf7_row3_col4\" class=\"data row3 col4\" >43.9%</td>\n",
       "      <td id=\"T_a8bf7_row3_col5\" class=\"data row3 col5\" >43.5%</td>\n",
       "    </tr>\n",
       "    <tr>\n",
       "      <th id=\"T_a8bf7_level0_row4\" class=\"row_heading level0 row4\" >2025-10-03</th>\n",
       "      <td id=\"T_a8bf7_row4_col0\" class=\"data row4 col0\" >38.8%</td>\n",
       "      <td id=\"T_a8bf7_row4_col1\" class=\"data row4 col1\" >36.4%</td>\n",
       "      <td id=\"T_a8bf7_row4_col2\" class=\"data row4 col2\" >33.4%</td>\n",
       "      <td id=\"T_a8bf7_row4_col3\" class=\"data row4 col3\" >25.8%</td>\n",
       "      <td id=\"T_a8bf7_row4_col4\" class=\"data row4 col4\" >41.1%</td>\n",
       "      <td id=\"T_a8bf7_row4_col5\" class=\"data row4 col5\" >40.2%</td>\n",
       "    </tr>\n",
       "    <tr>\n",
       "      <th id=\"T_a8bf7_level0_row5\" class=\"row_heading level0 row5\" >2025-10-06</th>\n",
       "      <td id=\"T_a8bf7_row5_col0\" class=\"data row5 col0\" >nan%</td>\n",
       "      <td id=\"T_a8bf7_row5_col1\" class=\"data row5 col1\" >41.4%</td>\n",
       "      <td id=\"T_a8bf7_row5_col2\" class=\"data row5 col2\" >35.9%</td>\n",
       "      <td id=\"T_a8bf7_row5_col3\" class=\"data row5 col3\" >39.1%</td>\n",
       "      <td id=\"T_a8bf7_row5_col4\" class=\"data row5 col4\" >51.9%</td>\n",
       "      <td id=\"T_a8bf7_row5_col5\" class=\"data row5 col5\" >48.1%</td>\n",
       "    </tr>\n",
       "    <tr>\n",
       "      <th id=\"T_a8bf7_level0_row6\" class=\"row_heading level0 row6\" >2025-10-07</th>\n",
       "      <td id=\"T_a8bf7_row6_col0\" class=\"data row6 col0\" >48.0%</td>\n",
       "      <td id=\"T_a8bf7_row6_col1\" class=\"data row6 col1\" >nan%</td>\n",
       "      <td id=\"T_a8bf7_row6_col2\" class=\"data row6 col2\" >37.4%</td>\n",
       "      <td id=\"T_a8bf7_row6_col3\" class=\"data row6 col3\" >42.3%</td>\n",
       "      <td id=\"T_a8bf7_row6_col4\" class=\"data row6 col4\" >57.3%</td>\n",
       "      <td id=\"T_a8bf7_row6_col5\" class=\"data row6 col5\" >51.9%</td>\n",
       "    </tr>\n",
       "    <tr>\n",
       "      <th id=\"T_a8bf7_level0_row7\" class=\"row_heading level0 row7\" >2025-10-08</th>\n",
       "      <td id=\"T_a8bf7_row7_col0\" class=\"data row7 col0\" >47.1%</td>\n",
       "      <td id=\"T_a8bf7_row7_col1\" class=\"data row7 col1\" >43.2%</td>\n",
       "      <td id=\"T_a8bf7_row7_col2\" class=\"data row7 col2\" >37.3%</td>\n",
       "      <td id=\"T_a8bf7_row7_col3\" class=\"data row7 col3\" >44.1%</td>\n",
       "      <td id=\"T_a8bf7_row7_col4\" class=\"data row7 col4\" >59.2%</td>\n",
       "      <td id=\"T_a8bf7_row7_col5\" class=\"data row7 col5\" >50.7%</td>\n",
       "    </tr>\n",
       "    <tr>\n",
       "      <th id=\"T_a8bf7_level0_row8\" class=\"row_heading level0 row8\" >2025-10-09</th>\n",
       "      <td id=\"T_a8bf7_row8_col0\" class=\"data row8 col0\" >37.9%</td>\n",
       "      <td id=\"T_a8bf7_row8_col1\" class=\"data row8 col1\" >35.4%</td>\n",
       "      <td id=\"T_a8bf7_row8_col2\" class=\"data row8 col2\" >32.9%</td>\n",
       "      <td id=\"T_a8bf7_row8_col3\" class=\"data row8 col3\" >-7.1%</td>\n",
       "      <td id=\"T_a8bf7_row8_col4\" class=\"data row8 col4\" >36.6%</td>\n",
       "      <td id=\"T_a8bf7_row8_col5\" class=\"data row8 col5\" >38.7%</td>\n",
       "    </tr>\n",
       "    <tr>\n",
       "      <th id=\"T_a8bf7_level0_row9\" class=\"row_heading level0 row9\" >2025-10-13</th>\n",
       "      <td id=\"T_a8bf7_row9_col0\" class=\"data row9 col0\" >46.8%</td>\n",
       "      <td id=\"T_a8bf7_row9_col1\" class=\"data row9 col1\" >43.0%</td>\n",
       "      <td id=\"T_a8bf7_row9_col2\" class=\"data row9 col2\" >36.5%</td>\n",
       "      <td id=\"T_a8bf7_row9_col3\" class=\"data row9 col3\" >21.6%</td>\n",
       "      <td id=\"T_a8bf7_row9_col4\" class=\"data row9 col4\" >49.1%</td>\n",
       "      <td id=\"T_a8bf7_row9_col5\" class=\"data row9 col5\" >48.0%</td>\n",
       "    </tr>\n",
       "    <tr>\n",
       "      <th id=\"T_a8bf7_level0_row10\" class=\"row_heading level0 row10\" >2025-10-14</th>\n",
       "      <td id=\"T_a8bf7_row10_col0\" class=\"data row10 col0\" >51.7%</td>\n",
       "      <td id=\"T_a8bf7_row10_col1\" class=\"data row10 col1\" >nan%</td>\n",
       "      <td id=\"T_a8bf7_row10_col2\" class=\"data row10 col2\" >39.0%</td>\n",
       "      <td id=\"T_a8bf7_row10_col3\" class=\"data row10 col3\" >55.5%</td>\n",
       "      <td id=\"T_a8bf7_row10_col4\" class=\"data row10 col4\" >64.5%</td>\n",
       "      <td id=\"T_a8bf7_row10_col5\" class=\"data row10 col5\" >55.1%</td>\n",
       "    </tr>\n",
       "    <tr>\n",
       "      <th id=\"T_a8bf7_level0_row11\" class=\"row_heading level0 row11\" >2025-10-15</th>\n",
       "      <td id=\"T_a8bf7_row11_col0\" class=\"data row11 col0\" >51.2%</td>\n",
       "      <td id=\"T_a8bf7_row11_col1\" class=\"data row11 col1\" >47.6%</td>\n",
       "      <td id=\"T_a8bf7_row11_col2\" class=\"data row11 col2\" >39.8%</td>\n",
       "      <td id=\"T_a8bf7_row11_col3\" class=\"data row11 col3\" >91.3%</td>\n",
       "      <td id=\"T_a8bf7_row11_col4\" class=\"data row11 col4\" >71.0%</td>\n",
       "      <td id=\"T_a8bf7_row11_col5\" class=\"data row11 col5\" >57.5%</td>\n",
       "    </tr>\n",
       "    <tr>\n",
       "      <th id=\"T_a8bf7_level0_row12\" class=\"row_heading level0 row12\" >2025-10-16</th>\n",
       "      <td id=\"T_a8bf7_row12_col0\" class=\"data row12 col0\" >nan%</td>\n",
       "      <td id=\"T_a8bf7_row12_col1\" class=\"data row12 col1\" >nan%</td>\n",
       "      <td id=\"T_a8bf7_row12_col2\" class=\"data row12 col2\" >40.4%</td>\n",
       "      <td id=\"T_a8bf7_row12_col3\" class=\"data row12 col3\" >91.8%</td>\n",
       "      <td id=\"T_a8bf7_row12_col4\" class=\"data row12 col4\" >71.8%</td>\n",
       "      <td id=\"T_a8bf7_row12_col5\" class=\"data row12 col5\" >58.5%</td>\n",
       "    </tr>\n",
       "    <tr>\n",
       "      <th id=\"T_a8bf7_level0_row13\" class=\"row_heading level0 row13\" >2025-10-17</th>\n",
       "      <td id=\"T_a8bf7_row13_col0\" class=\"data row13 col0\" >46.0%</td>\n",
       "      <td id=\"T_a8bf7_row13_col1\" class=\"data row13 col1\" >nan%</td>\n",
       "      <td id=\"T_a8bf7_row13_col2\" class=\"data row13 col2\" >37.3%</td>\n",
       "      <td id=\"T_a8bf7_row13_col3\" class=\"data row13 col3\" >73.4%</td>\n",
       "      <td id=\"T_a8bf7_row13_col4\" class=\"data row13 col4\" >60.4%</td>\n",
       "      <td id=\"T_a8bf7_row13_col5\" class=\"data row13 col5\" >50.4%</td>\n",
       "    </tr>\n",
       "    <tr>\n",
       "      <th id=\"T_a8bf7_level0_row14\" class=\"row_heading level0 row14\" >2025-10-20</th>\n",
       "      <td id=\"T_a8bf7_row14_col0\" class=\"data row14 col0\" >45.8%</td>\n",
       "      <td id=\"T_a8bf7_row14_col1\" class=\"data row14 col1\" >41.9%</td>\n",
       "      <td id=\"T_a8bf7_row14_col2\" class=\"data row14 col2\" >36.3%</td>\n",
       "      <td id=\"T_a8bf7_row14_col3\" class=\"data row14 col3\" >45.7%</td>\n",
       "      <td id=\"T_a8bf7_row14_col4\" class=\"data row14 col4\" >53.8%</td>\n",
       "      <td id=\"T_a8bf7_row14_col5\" class=\"data row14 col5\" >47.5%</td>\n",
       "    </tr>\n",
       "    <tr>\n",
       "      <th id=\"T_a8bf7_level0_row15\" class=\"row_heading level0 row15\" >2025-10-21</th>\n",
       "      <td id=\"T_a8bf7_row15_col0\" class=\"data row15 col0\" >42.7%</td>\n",
       "      <td id=\"T_a8bf7_row15_col1\" class=\"data row15 col1\" >nan%</td>\n",
       "      <td id=\"T_a8bf7_row15_col2\" class=\"data row15 col2\" >34.7%</td>\n",
       "      <td id=\"T_a8bf7_row15_col3\" class=\"data row15 col3\" >38.7%</td>\n",
       "      <td id=\"T_a8bf7_row15_col4\" class=\"data row15 col4\" >49.3%</td>\n",
       "      <td id=\"T_a8bf7_row15_col5\" class=\"data row15 col5\" >43.6%</td>\n",
       "    </tr>\n",
       "    <tr>\n",
       "      <th id=\"T_a8bf7_level0_row16\" class=\"row_heading level0 row16\" >2025-10-22</th>\n",
       "      <td id=\"T_a8bf7_row16_col0\" class=\"data row16 col0\" >37.9%</td>\n",
       "      <td id=\"T_a8bf7_row16_col1\" class=\"data row16 col1\" >35.7%</td>\n",
       "      <td id=\"T_a8bf7_row16_col2\" class=\"data row16 col2\" >31.8%</td>\n",
       "      <td id=\"T_a8bf7_row16_col3\" class=\"data row16 col3\" >18.9%</td>\n",
       "      <td id=\"T_a8bf7_row16_col4\" class=\"data row16 col4\" >41.7%</td>\n",
       "      <td id=\"T_a8bf7_row16_col5\" class=\"data row16 col5\" >38.4%</td>\n",
       "    </tr>\n",
       "    <tr>\n",
       "      <th id=\"T_a8bf7_level0_row17\" class=\"row_heading level0 row17\" >2025-10-23</th>\n",
       "      <td id=\"T_a8bf7_row17_col0\" class=\"data row17 col0\" >31.2%</td>\n",
       "      <td id=\"T_a8bf7_row17_col1\" class=\"data row17 col1\" >30.0%</td>\n",
       "      <td id=\"T_a8bf7_row17_col2\" class=\"data row17 col2\" >28.4%</td>\n",
       "      <td id=\"T_a8bf7_row17_col3\" class=\"data row17 col3\" >-15.4%</td>\n",
       "      <td id=\"T_a8bf7_row17_col4\" class=\"data row17 col4\" >32.1%</td>\n",
       "      <td id=\"T_a8bf7_row17_col5\" class=\"data row17 col5\" >31.1%</td>\n",
       "    </tr>\n",
       "    <tr>\n",
       "      <th id=\"T_a8bf7_level0_row18\" class=\"row_heading level0 row18\" >2025-10-24</th>\n",
       "      <td id=\"T_a8bf7_row18_col0\" class=\"data row18 col0\" >34.6%</td>\n",
       "      <td id=\"T_a8bf7_row18_col1\" class=\"data row18 col1\" >33.0%</td>\n",
       "      <td id=\"T_a8bf7_row18_col2\" class=\"data row18 col2\" >29.6%</td>\n",
       "      <td id=\"T_a8bf7_row18_col3\" class=\"data row18 col3\" >0.3%</td>\n",
       "      <td id=\"T_a8bf7_row18_col4\" class=\"data row18 col4\" >39.0%</td>\n",
       "      <td id=\"T_a8bf7_row18_col5\" class=\"data row18 col5\" >36.5%</td>\n",
       "    </tr>\n",
       "  </tbody>\n",
       "</table>\n"
      ],
      "text/plain": [
       "<IPython.core.display.HTML object>"
      ]
     },
     "metadata": {},
     "output_type": "display_data"
    },
    {
     "data": {
      "application/vnd.plotly.v1+json": {
       "config": {
        "plotlyServerURL": "https://plot.ly"
       },
       "data": [
        {
         "line": {
          "color": "blue",
          "dash": "dot"
         },
         "marker": {
          "size": 6
         },
         "mode": "lines+markers+text",
         "name": "Tasa TAMAR",
         "text": [
          "42%",
          "42%",
          "43%",
          "42%",
          "44%",
          "45%",
          "47%",
          "50%",
          "54%",
          "54%",
          "59%",
          "66%",
          "60%",
          "58%",
          "53%",
          "53%",
          "54%",
          "55%"
         ],
         "textposition": "top center",
         "type": "scatter",
         "x": [
          "2025-09-29T00:00:00.000000000",
          "2025-09-30T00:00:00.000000000",
          "2025-10-01T00:00:00.000000000",
          "2025-10-02T00:00:00.000000000",
          "2025-10-03T00:00:00.000000000",
          "2025-10-06T00:00:00.000000000",
          "2025-10-07T00:00:00.000000000",
          "2025-10-08T00:00:00.000000000",
          "2025-10-09T00:00:00.000000000",
          "2025-10-13T00:00:00.000000000",
          "2025-10-14T00:00:00.000000000",
          "2025-10-15T00:00:00.000000000",
          "2025-10-16T00:00:00.000000000",
          "2025-10-17T00:00:00.000000000",
          "2025-10-20T00:00:00.000000000",
          "2025-10-21T00:00:00.000000000",
          "2025-10-22T00:00:00.000000000",
          "2025-10-23T00:00:00.000000000"
         ],
         "y": {
          "bdata": "j8L1KFyP2j8fhetRuB7bP3E9CtejcNs/4XoUrkfh2j89CtejcD3cP6RwPQrXo9w/KVyPwvUo3j+PwvUoXA/gP2ZmZmZmZuE/MzMzMzMz4T/sUbgeheviPx+F61G4HuU/PQrXo3A94z8K16NwPYriP3sUrkfh+uA/ZmZmZmbm4D+uR+F6FC7hP4/C9Shcj+E/",
          "dtype": "f8"
         }
        }
       ],
       "layout": {
        "height": 600,
        "hovermode": "x unified",
        "legend": {
         "title": {
          "text": "Serie"
         }
        },
        "template": {
         "data": {
          "bar": [
           {
            "error_x": {
             "color": "#2a3f5f"
            },
            "error_y": {
             "color": "#2a3f5f"
            },
            "marker": {
             "line": {
              "color": "#E5ECF6",
              "width": 0.5
             },
             "pattern": {
              "fillmode": "overlay",
              "size": 10,
              "solidity": 0.2
             }
            },
            "type": "bar"
           }
          ],
          "barpolar": [
           {
            "marker": {
             "line": {
              "color": "#E5ECF6",
              "width": 0.5
             },
             "pattern": {
              "fillmode": "overlay",
              "size": 10,
              "solidity": 0.2
             }
            },
            "type": "barpolar"
           }
          ],
          "carpet": [
           {
            "aaxis": {
             "endlinecolor": "#2a3f5f",
             "gridcolor": "white",
             "linecolor": "white",
             "minorgridcolor": "white",
             "startlinecolor": "#2a3f5f"
            },
            "baxis": {
             "endlinecolor": "#2a3f5f",
             "gridcolor": "white",
             "linecolor": "white",
             "minorgridcolor": "white",
             "startlinecolor": "#2a3f5f"
            },
            "type": "carpet"
           }
          ],
          "choropleth": [
           {
            "colorbar": {
             "outlinewidth": 0,
             "ticks": ""
            },
            "type": "choropleth"
           }
          ],
          "contour": [
           {
            "colorbar": {
             "outlinewidth": 0,
             "ticks": ""
            },
            "colorscale": [
             [
              0,
              "#0d0887"
             ],
             [
              0.1111111111111111,
              "#46039f"
             ],
             [
              0.2222222222222222,
              "#7201a8"
             ],
             [
              0.3333333333333333,
              "#9c179e"
             ],
             [
              0.4444444444444444,
              "#bd3786"
             ],
             [
              0.5555555555555556,
              "#d8576b"
             ],
             [
              0.6666666666666666,
              "#ed7953"
             ],
             [
              0.7777777777777778,
              "#fb9f3a"
             ],
             [
              0.8888888888888888,
              "#fdca26"
             ],
             [
              1,
              "#f0f921"
             ]
            ],
            "type": "contour"
           }
          ],
          "contourcarpet": [
           {
            "colorbar": {
             "outlinewidth": 0,
             "ticks": ""
            },
            "type": "contourcarpet"
           }
          ],
          "heatmap": [
           {
            "colorbar": {
             "outlinewidth": 0,
             "ticks": ""
            },
            "colorscale": [
             [
              0,
              "#0d0887"
             ],
             [
              0.1111111111111111,
              "#46039f"
             ],
             [
              0.2222222222222222,
              "#7201a8"
             ],
             [
              0.3333333333333333,
              "#9c179e"
             ],
             [
              0.4444444444444444,
              "#bd3786"
             ],
             [
              0.5555555555555556,
              "#d8576b"
             ],
             [
              0.6666666666666666,
              "#ed7953"
             ],
             [
              0.7777777777777778,
              "#fb9f3a"
             ],
             [
              0.8888888888888888,
              "#fdca26"
             ],
             [
              1,
              "#f0f921"
             ]
            ],
            "type": "heatmap"
           }
          ],
          "histogram": [
           {
            "marker": {
             "pattern": {
              "fillmode": "overlay",
              "size": 10,
              "solidity": 0.2
             }
            },
            "type": "histogram"
           }
          ],
          "histogram2d": [
           {
            "colorbar": {
             "outlinewidth": 0,
             "ticks": ""
            },
            "colorscale": [
             [
              0,
              "#0d0887"
             ],
             [
              0.1111111111111111,
              "#46039f"
             ],
             [
              0.2222222222222222,
              "#7201a8"
             ],
             [
              0.3333333333333333,
              "#9c179e"
             ],
             [
              0.4444444444444444,
              "#bd3786"
             ],
             [
              0.5555555555555556,
              "#d8576b"
             ],
             [
              0.6666666666666666,
              "#ed7953"
             ],
             [
              0.7777777777777778,
              "#fb9f3a"
             ],
             [
              0.8888888888888888,
              "#fdca26"
             ],
             [
              1,
              "#f0f921"
             ]
            ],
            "type": "histogram2d"
           }
          ],
          "histogram2dcontour": [
           {
            "colorbar": {
             "outlinewidth": 0,
             "ticks": ""
            },
            "colorscale": [
             [
              0,
              "#0d0887"
             ],
             [
              0.1111111111111111,
              "#46039f"
             ],
             [
              0.2222222222222222,
              "#7201a8"
             ],
             [
              0.3333333333333333,
              "#9c179e"
             ],
             [
              0.4444444444444444,
              "#bd3786"
             ],
             [
              0.5555555555555556,
              "#d8576b"
             ],
             [
              0.6666666666666666,
              "#ed7953"
             ],
             [
              0.7777777777777778,
              "#fb9f3a"
             ],
             [
              0.8888888888888888,
              "#fdca26"
             ],
             [
              1,
              "#f0f921"
             ]
            ],
            "type": "histogram2dcontour"
           }
          ],
          "mesh3d": [
           {
            "colorbar": {
             "outlinewidth": 0,
             "ticks": ""
            },
            "type": "mesh3d"
           }
          ],
          "parcoords": [
           {
            "line": {
             "colorbar": {
              "outlinewidth": 0,
              "ticks": ""
             }
            },
            "type": "parcoords"
           }
          ],
          "pie": [
           {
            "automargin": true,
            "type": "pie"
           }
          ],
          "scatter": [
           {
            "fillpattern": {
             "fillmode": "overlay",
             "size": 10,
             "solidity": 0.2
            },
            "type": "scatter"
           }
          ],
          "scatter3d": [
           {
            "line": {
             "colorbar": {
              "outlinewidth": 0,
              "ticks": ""
             }
            },
            "marker": {
             "colorbar": {
              "outlinewidth": 0,
              "ticks": ""
             }
            },
            "type": "scatter3d"
           }
          ],
          "scattercarpet": [
           {
            "marker": {
             "colorbar": {
              "outlinewidth": 0,
              "ticks": ""
             }
            },
            "type": "scattercarpet"
           }
          ],
          "scattergeo": [
           {
            "marker": {
             "colorbar": {
              "outlinewidth": 0,
              "ticks": ""
             }
            },
            "type": "scattergeo"
           }
          ],
          "scattergl": [
           {
            "marker": {
             "colorbar": {
              "outlinewidth": 0,
              "ticks": ""
             }
            },
            "type": "scattergl"
           }
          ],
          "scattermap": [
           {
            "marker": {
             "colorbar": {
              "outlinewidth": 0,
              "ticks": ""
             }
            },
            "type": "scattermap"
           }
          ],
          "scattermapbox": [
           {
            "marker": {
             "colorbar": {
              "outlinewidth": 0,
              "ticks": ""
             }
            },
            "type": "scattermapbox"
           }
          ],
          "scatterpolar": [
           {
            "marker": {
             "colorbar": {
              "outlinewidth": 0,
              "ticks": ""
             }
            },
            "type": "scatterpolar"
           }
          ],
          "scatterpolargl": [
           {
            "marker": {
             "colorbar": {
              "outlinewidth": 0,
              "ticks": ""
             }
            },
            "type": "scatterpolargl"
           }
          ],
          "scatterternary": [
           {
            "marker": {
             "colorbar": {
              "outlinewidth": 0,
              "ticks": ""
             }
            },
            "type": "scatterternary"
           }
          ],
          "surface": [
           {
            "colorbar": {
             "outlinewidth": 0,
             "ticks": ""
            },
            "colorscale": [
             [
              0,
              "#0d0887"
             ],
             [
              0.1111111111111111,
              "#46039f"
             ],
             [
              0.2222222222222222,
              "#7201a8"
             ],
             [
              0.3333333333333333,
              "#9c179e"
             ],
             [
              0.4444444444444444,
              "#bd3786"
             ],
             [
              0.5555555555555556,
              "#d8576b"
             ],
             [
              0.6666666666666666,
              "#ed7953"
             ],
             [
              0.7777777777777778,
              "#fb9f3a"
             ],
             [
              0.8888888888888888,
              "#fdca26"
             ],
             [
              1,
              "#f0f921"
             ]
            ],
            "type": "surface"
           }
          ],
          "table": [
           {
            "cells": {
             "fill": {
              "color": "#EBF0F8"
             },
             "line": {
              "color": "white"
             }
            },
            "header": {
             "fill": {
              "color": "#C8D4E3"
             },
             "line": {
              "color": "white"
             }
            },
            "type": "table"
           }
          ]
         },
         "layout": {
          "annotationdefaults": {
           "arrowcolor": "#2a3f5f",
           "arrowhead": 0,
           "arrowwidth": 1
          },
          "autotypenumbers": "strict",
          "coloraxis": {
           "colorbar": {
            "outlinewidth": 0,
            "ticks": ""
           }
          },
          "colorscale": {
           "diverging": [
            [
             0,
             "#8e0152"
            ],
            [
             0.1,
             "#c51b7d"
            ],
            [
             0.2,
             "#de77ae"
            ],
            [
             0.3,
             "#f1b6da"
            ],
            [
             0.4,
             "#fde0ef"
            ],
            [
             0.5,
             "#f7f7f7"
            ],
            [
             0.6,
             "#e6f5d0"
            ],
            [
             0.7,
             "#b8e186"
            ],
            [
             0.8,
             "#7fbc41"
            ],
            [
             0.9,
             "#4d9221"
            ],
            [
             1,
             "#276419"
            ]
           ],
           "sequential": [
            [
             0,
             "#0d0887"
            ],
            [
             0.1111111111111111,
             "#46039f"
            ],
            [
             0.2222222222222222,
             "#7201a8"
            ],
            [
             0.3333333333333333,
             "#9c179e"
            ],
            [
             0.4444444444444444,
             "#bd3786"
            ],
            [
             0.5555555555555556,
             "#d8576b"
            ],
            [
             0.6666666666666666,
             "#ed7953"
            ],
            [
             0.7777777777777778,
             "#fb9f3a"
            ],
            [
             0.8888888888888888,
             "#fdca26"
            ],
            [
             1,
             "#f0f921"
            ]
           ],
           "sequentialminus": [
            [
             0,
             "#0d0887"
            ],
            [
             0.1111111111111111,
             "#46039f"
            ],
            [
             0.2222222222222222,
             "#7201a8"
            ],
            [
             0.3333333333333333,
             "#9c179e"
            ],
            [
             0.4444444444444444,
             "#bd3786"
            ],
            [
             0.5555555555555556,
             "#d8576b"
            ],
            [
             0.6666666666666666,
             "#ed7953"
            ],
            [
             0.7777777777777778,
             "#fb9f3a"
            ],
            [
             0.8888888888888888,
             "#fdca26"
            ],
            [
             1,
             "#f0f921"
            ]
           ]
          },
          "colorway": [
           "#636efa",
           "#EF553B",
           "#00cc96",
           "#ab63fa",
           "#FFA15A",
           "#19d3f3",
           "#FF6692",
           "#B6E880",
           "#FF97FF",
           "#FECB52"
          ],
          "font": {
           "color": "#2a3f5f"
          },
          "geo": {
           "bgcolor": "white",
           "lakecolor": "white",
           "landcolor": "#E5ECF6",
           "showlakes": true,
           "showland": true,
           "subunitcolor": "white"
          },
          "hoverlabel": {
           "align": "left"
          },
          "hovermode": "closest",
          "mapbox": {
           "style": "light"
          },
          "paper_bgcolor": "white",
          "plot_bgcolor": "#E5ECF6",
          "polar": {
           "angularaxis": {
            "gridcolor": "white",
            "linecolor": "white",
            "ticks": ""
           },
           "bgcolor": "#E5ECF6",
           "radialaxis": {
            "gridcolor": "white",
            "linecolor": "white",
            "ticks": ""
           }
          },
          "scene": {
           "xaxis": {
            "backgroundcolor": "#E5ECF6",
            "gridcolor": "white",
            "gridwidth": 2,
            "linecolor": "white",
            "showbackground": true,
            "ticks": "",
            "zerolinecolor": "white"
           },
           "yaxis": {
            "backgroundcolor": "#E5ECF6",
            "gridcolor": "white",
            "gridwidth": 2,
            "linecolor": "white",
            "showbackground": true,
            "ticks": "",
            "zerolinecolor": "white"
           },
           "zaxis": {
            "backgroundcolor": "#E5ECF6",
            "gridcolor": "white",
            "gridwidth": 2,
            "linecolor": "white",
            "showbackground": true,
            "ticks": "",
            "zerolinecolor": "white"
           }
          },
          "shapedefaults": {
           "line": {
            "color": "#2a3f5f"
           }
          },
          "ternary": {
           "aaxis": {
            "gridcolor": "white",
            "linecolor": "white",
            "ticks": ""
           },
           "baxis": {
            "gridcolor": "white",
            "linecolor": "white",
            "ticks": ""
           },
           "bgcolor": "#E5ECF6",
           "caxis": {
            "gridcolor": "white",
            "linecolor": "white",
            "ticks": ""
           }
          },
          "title": {
           "x": 0.05
          },
          "xaxis": {
           "automargin": true,
           "gridcolor": "white",
           "linecolor": "white",
           "ticks": "",
           "title": {
            "standoff": 15
           },
           "zerolinecolor": "white",
           "zerolinewidth": 2
          },
          "yaxis": {
           "automargin": true,
           "gridcolor": "white",
           "linecolor": "white",
           "ticks": "",
           "title": {
            "standoff": 15
           },
           "zerolinecolor": "white",
           "zerolinewidth": 2
          }
         }
        },
        "title": {
         "text": "Tasa TAMAR"
        },
        "width": 1000,
        "xaxis": {
         "title": {
          "text": "Fecha"
         }
        },
        "yaxis": {
         "tickformat": ".0%",
         "title": {
          "text": "Tasa (%)"
         }
        }
       }
      }
     },
     "metadata": {},
     "output_type": "display_data"
    },
    {
     "data": {
      "application/vnd.plotly.v1+json": {
       "config": {
        "plotlyServerURL": "https://plot.ly"
       },
       "data": [
        {
         "line": {
          "color": "blue",
          "dash": "dot"
         },
         "marker": {
          "size": 6
         },
         "mode": "lines+markers+text",
         "name": "tna",
         "text": [
          "38%",
          "37%",
          "34%",
          "33%"
         ],
         "textposition": "top center",
         "type": "scatter",
         "x": [
          "2025-12-15T00:00:00.000000000",
          "2026-02-13T00:00:00.000000000",
          "2026-06-30T00:00:00.000000000",
          "2026-10-17T00:00:00.000000000"
         ],
         "y": {
          "bdata": "8JSYHO4f2D9g/MYS/O7XP4Cv3ODZg9U/IBimuJXf1D8=",
          "dtype": "f8"
         }
        }
       ],
       "layout": {
        "height": 600,
        "hovermode": "x unified",
        "legend": {
         "title": {
          "text": "Serie"
         }
        },
        "template": {
         "data": {
          "bar": [
           {
            "error_x": {
             "color": "#2a3f5f"
            },
            "error_y": {
             "color": "#2a3f5f"
            },
            "marker": {
             "line": {
              "color": "#E5ECF6",
              "width": 0.5
             },
             "pattern": {
              "fillmode": "overlay",
              "size": 10,
              "solidity": 0.2
             }
            },
            "type": "bar"
           }
          ],
          "barpolar": [
           {
            "marker": {
             "line": {
              "color": "#E5ECF6",
              "width": 0.5
             },
             "pattern": {
              "fillmode": "overlay",
              "size": 10,
              "solidity": 0.2
             }
            },
            "type": "barpolar"
           }
          ],
          "carpet": [
           {
            "aaxis": {
             "endlinecolor": "#2a3f5f",
             "gridcolor": "white",
             "linecolor": "white",
             "minorgridcolor": "white",
             "startlinecolor": "#2a3f5f"
            },
            "baxis": {
             "endlinecolor": "#2a3f5f",
             "gridcolor": "white",
             "linecolor": "white",
             "minorgridcolor": "white",
             "startlinecolor": "#2a3f5f"
            },
            "type": "carpet"
           }
          ],
          "choropleth": [
           {
            "colorbar": {
             "outlinewidth": 0,
             "ticks": ""
            },
            "type": "choropleth"
           }
          ],
          "contour": [
           {
            "colorbar": {
             "outlinewidth": 0,
             "ticks": ""
            },
            "colorscale": [
             [
              0,
              "#0d0887"
             ],
             [
              0.1111111111111111,
              "#46039f"
             ],
             [
              0.2222222222222222,
              "#7201a8"
             ],
             [
              0.3333333333333333,
              "#9c179e"
             ],
             [
              0.4444444444444444,
              "#bd3786"
             ],
             [
              0.5555555555555556,
              "#d8576b"
             ],
             [
              0.6666666666666666,
              "#ed7953"
             ],
             [
              0.7777777777777778,
              "#fb9f3a"
             ],
             [
              0.8888888888888888,
              "#fdca26"
             ],
             [
              1,
              "#f0f921"
             ]
            ],
            "type": "contour"
           }
          ],
          "contourcarpet": [
           {
            "colorbar": {
             "outlinewidth": 0,
             "ticks": ""
            },
            "type": "contourcarpet"
           }
          ],
          "heatmap": [
           {
            "colorbar": {
             "outlinewidth": 0,
             "ticks": ""
            },
            "colorscale": [
             [
              0,
              "#0d0887"
             ],
             [
              0.1111111111111111,
              "#46039f"
             ],
             [
              0.2222222222222222,
              "#7201a8"
             ],
             [
              0.3333333333333333,
              "#9c179e"
             ],
             [
              0.4444444444444444,
              "#bd3786"
             ],
             [
              0.5555555555555556,
              "#d8576b"
             ],
             [
              0.6666666666666666,
              "#ed7953"
             ],
             [
              0.7777777777777778,
              "#fb9f3a"
             ],
             [
              0.8888888888888888,
              "#fdca26"
             ],
             [
              1,
              "#f0f921"
             ]
            ],
            "type": "heatmap"
           }
          ],
          "histogram": [
           {
            "marker": {
             "pattern": {
              "fillmode": "overlay",
              "size": 10,
              "solidity": 0.2
             }
            },
            "type": "histogram"
           }
          ],
          "histogram2d": [
           {
            "colorbar": {
             "outlinewidth": 0,
             "ticks": ""
            },
            "colorscale": [
             [
              0,
              "#0d0887"
             ],
             [
              0.1111111111111111,
              "#46039f"
             ],
             [
              0.2222222222222222,
              "#7201a8"
             ],
             [
              0.3333333333333333,
              "#9c179e"
             ],
             [
              0.4444444444444444,
              "#bd3786"
             ],
             [
              0.5555555555555556,
              "#d8576b"
             ],
             [
              0.6666666666666666,
              "#ed7953"
             ],
             [
              0.7777777777777778,
              "#fb9f3a"
             ],
             [
              0.8888888888888888,
              "#fdca26"
             ],
             [
              1,
              "#f0f921"
             ]
            ],
            "type": "histogram2d"
           }
          ],
          "histogram2dcontour": [
           {
            "colorbar": {
             "outlinewidth": 0,
             "ticks": ""
            },
            "colorscale": [
             [
              0,
              "#0d0887"
             ],
             [
              0.1111111111111111,
              "#46039f"
             ],
             [
              0.2222222222222222,
              "#7201a8"
             ],
             [
              0.3333333333333333,
              "#9c179e"
             ],
             [
              0.4444444444444444,
              "#bd3786"
             ],
             [
              0.5555555555555556,
              "#d8576b"
             ],
             [
              0.6666666666666666,
              "#ed7953"
             ],
             [
              0.7777777777777778,
              "#fb9f3a"
             ],
             [
              0.8888888888888888,
              "#fdca26"
             ],
             [
              1,
              "#f0f921"
             ]
            ],
            "type": "histogram2dcontour"
           }
          ],
          "mesh3d": [
           {
            "colorbar": {
             "outlinewidth": 0,
             "ticks": ""
            },
            "type": "mesh3d"
           }
          ],
          "parcoords": [
           {
            "line": {
             "colorbar": {
              "outlinewidth": 0,
              "ticks": ""
             }
            },
            "type": "parcoords"
           }
          ],
          "pie": [
           {
            "automargin": true,
            "type": "pie"
           }
          ],
          "scatter": [
           {
            "fillpattern": {
             "fillmode": "overlay",
             "size": 10,
             "solidity": 0.2
            },
            "type": "scatter"
           }
          ],
          "scatter3d": [
           {
            "line": {
             "colorbar": {
              "outlinewidth": 0,
              "ticks": ""
             }
            },
            "marker": {
             "colorbar": {
              "outlinewidth": 0,
              "ticks": ""
             }
            },
            "type": "scatter3d"
           }
          ],
          "scattercarpet": [
           {
            "marker": {
             "colorbar": {
              "outlinewidth": 0,
              "ticks": ""
             }
            },
            "type": "scattercarpet"
           }
          ],
          "scattergeo": [
           {
            "marker": {
             "colorbar": {
              "outlinewidth": 0,
              "ticks": ""
             }
            },
            "type": "scattergeo"
           }
          ],
          "scattergl": [
           {
            "marker": {
             "colorbar": {
              "outlinewidth": 0,
              "ticks": ""
             }
            },
            "type": "scattergl"
           }
          ],
          "scattermap": [
           {
            "marker": {
             "colorbar": {
              "outlinewidth": 0,
              "ticks": ""
             }
            },
            "type": "scattermap"
           }
          ],
          "scattermapbox": [
           {
            "marker": {
             "colorbar": {
              "outlinewidth": 0,
              "ticks": ""
             }
            },
            "type": "scattermapbox"
           }
          ],
          "scatterpolar": [
           {
            "marker": {
             "colorbar": {
              "outlinewidth": 0,
              "ticks": ""
             }
            },
            "type": "scatterpolar"
           }
          ],
          "scatterpolargl": [
           {
            "marker": {
             "colorbar": {
              "outlinewidth": 0,
              "ticks": ""
             }
            },
            "type": "scatterpolargl"
           }
          ],
          "scatterternary": [
           {
            "marker": {
             "colorbar": {
              "outlinewidth": 0,
              "ticks": ""
             }
            },
            "type": "scatterternary"
           }
          ],
          "surface": [
           {
            "colorbar": {
             "outlinewidth": 0,
             "ticks": ""
            },
            "colorscale": [
             [
              0,
              "#0d0887"
             ],
             [
              0.1111111111111111,
              "#46039f"
             ],
             [
              0.2222222222222222,
              "#7201a8"
             ],
             [
              0.3333333333333333,
              "#9c179e"
             ],
             [
              0.4444444444444444,
              "#bd3786"
             ],
             [
              0.5555555555555556,
              "#d8576b"
             ],
             [
              0.6666666666666666,
              "#ed7953"
             ],
             [
              0.7777777777777778,
              "#fb9f3a"
             ],
             [
              0.8888888888888888,
              "#fdca26"
             ],
             [
              1,
              "#f0f921"
             ]
            ],
            "type": "surface"
           }
          ],
          "table": [
           {
            "cells": {
             "fill": {
              "color": "#EBF0F8"
             },
             "line": {
              "color": "white"
             }
            },
            "header": {
             "fill": {
              "color": "#C8D4E3"
             },
             "line": {
              "color": "white"
             }
            },
            "type": "table"
           }
          ]
         },
         "layout": {
          "annotationdefaults": {
           "arrowcolor": "#2a3f5f",
           "arrowhead": 0,
           "arrowwidth": 1
          },
          "autotypenumbers": "strict",
          "coloraxis": {
           "colorbar": {
            "outlinewidth": 0,
            "ticks": ""
           }
          },
          "colorscale": {
           "diverging": [
            [
             0,
             "#8e0152"
            ],
            [
             0.1,
             "#c51b7d"
            ],
            [
             0.2,
             "#de77ae"
            ],
            [
             0.3,
             "#f1b6da"
            ],
            [
             0.4,
             "#fde0ef"
            ],
            [
             0.5,
             "#f7f7f7"
            ],
            [
             0.6,
             "#e6f5d0"
            ],
            [
             0.7,
             "#b8e186"
            ],
            [
             0.8,
             "#7fbc41"
            ],
            [
             0.9,
             "#4d9221"
            ],
            [
             1,
             "#276419"
            ]
           ],
           "sequential": [
            [
             0,
             "#0d0887"
            ],
            [
             0.1111111111111111,
             "#46039f"
            ],
            [
             0.2222222222222222,
             "#7201a8"
            ],
            [
             0.3333333333333333,
             "#9c179e"
            ],
            [
             0.4444444444444444,
             "#bd3786"
            ],
            [
             0.5555555555555556,
             "#d8576b"
            ],
            [
             0.6666666666666666,
             "#ed7953"
            ],
            [
             0.7777777777777778,
             "#fb9f3a"
            ],
            [
             0.8888888888888888,
             "#fdca26"
            ],
            [
             1,
             "#f0f921"
            ]
           ],
           "sequentialminus": [
            [
             0,
             "#0d0887"
            ],
            [
             0.1111111111111111,
             "#46039f"
            ],
            [
             0.2222222222222222,
             "#7201a8"
            ],
            [
             0.3333333333333333,
             "#9c179e"
            ],
            [
             0.4444444444444444,
             "#bd3786"
            ],
            [
             0.5555555555555556,
             "#d8576b"
            ],
            [
             0.6666666666666666,
             "#ed7953"
            ],
            [
             0.7777777777777778,
             "#fb9f3a"
            ],
            [
             0.8888888888888888,
             "#fdca26"
            ],
            [
             1,
             "#f0f921"
            ]
           ]
          },
          "colorway": [
           "#636efa",
           "#EF553B",
           "#00cc96",
           "#ab63fa",
           "#FFA15A",
           "#19d3f3",
           "#FF6692",
           "#B6E880",
           "#FF97FF",
           "#FECB52"
          ],
          "font": {
           "color": "#2a3f5f"
          },
          "geo": {
           "bgcolor": "white",
           "lakecolor": "white",
           "landcolor": "#E5ECF6",
           "showlakes": true,
           "showland": true,
           "subunitcolor": "white"
          },
          "hoverlabel": {
           "align": "left"
          },
          "hovermode": "closest",
          "mapbox": {
           "style": "light"
          },
          "paper_bgcolor": "white",
          "plot_bgcolor": "#E5ECF6",
          "polar": {
           "angularaxis": {
            "gridcolor": "white",
            "linecolor": "white",
            "ticks": ""
           },
           "bgcolor": "#E5ECF6",
           "radialaxis": {
            "gridcolor": "white",
            "linecolor": "white",
            "ticks": ""
           }
          },
          "scene": {
           "xaxis": {
            "backgroundcolor": "#E5ECF6",
            "gridcolor": "white",
            "gridwidth": 2,
            "linecolor": "white",
            "showbackground": true,
            "ticks": "",
            "zerolinecolor": "white"
           },
           "yaxis": {
            "backgroundcolor": "#E5ECF6",
            "gridcolor": "white",
            "gridwidth": 2,
            "linecolor": "white",
            "showbackground": true,
            "ticks": "",
            "zerolinecolor": "white"
           },
           "zaxis": {
            "backgroundcolor": "#E5ECF6",
            "gridcolor": "white",
            "gridwidth": 2,
            "linecolor": "white",
            "showbackground": true,
            "ticks": "",
            "zerolinecolor": "white"
           }
          },
          "shapedefaults": {
           "line": {
            "color": "#2a3f5f"
           }
          },
          "ternary": {
           "aaxis": {
            "gridcolor": "white",
            "linecolor": "white",
            "ticks": ""
           },
           "baxis": {
            "gridcolor": "white",
            "linecolor": "white",
            "ticks": ""
           },
           "bgcolor": "#E5ECF6",
           "caxis": {
            "gridcolor": "white",
            "linecolor": "white",
            "ticks": ""
           }
          },
          "title": {
           "x": 0.05
          },
          "xaxis": {
           "automargin": true,
           "gridcolor": "white",
           "linecolor": "white",
           "ticks": "",
           "title": {
            "standoff": 15
           },
           "zerolinecolor": "white",
           "zerolinewidth": 2
          },
          "yaxis": {
           "automargin": true,
           "gridcolor": "white",
           "linecolor": "white",
           "ticks": "",
           "title": {
            "standoff": 15
           },
           "zerolinecolor": "white",
           "zerolinewidth": 2
          }
         }
        },
        "title": {
         "text": "TNA Letras del Tessoro"
        },
        "width": 1000,
        "xaxis": {
         "title": {
          "text": "Fecha"
         }
        },
        "yaxis": {
         "tickformat": ".0%",
         "title": {
          "text": "Tasa (%)"
         }
        }
       }
      }
     },
     "metadata": {},
     "output_type": "display_data"
    }
   ],
   "source": [
    "# Plot limits\n",
    "last_futures_close = get_last_futures_close_fx_limits(df)\n",
    "plot_limits_plotly(last_futures_close)\n",
    "# Plot rates\n",
    "plot_smooth_plotly(rates[rates < 100])\n",
    "# Table display\n",
    "rates_display = rates.copy()\n",
    "rates_display = rates_display/100\n",
    "rates_display.index = rates_display.index.strftime(\"%Y-%m-%d\")\n",
    "rates_display = rates_display.style.background_gradient(cmap=\"YlOrRd\")\n",
    "rates_display = rates_display.format(\"{:.1%}\")\n",
    "display(HTML(rates_display.to_html().replace('<table',\n",
    "                                '<table style=\"font-size:10px\"')))\n",
    "\n",
    "plot_tamar_serie_plotly(TAMAR_SERIE/100)\n",
    "plot_tamar_serie_plotly(bills[['expiration_date', 'tna']].set_index('expiration_date'), 'TNA Letras del Tesoro a Tasa Fija', 'Fecha de vencimiento', 'TNA %')\n"
   ]
  },
  {
   "cell_type": "markdown",
   "metadata": {},
   "source": [
    "## Interes Abierto y Volumen diario\n"
   ]
  },
  {
   "cell_type": "code",
   "execution_count": 4,
   "metadata": {
    "jupyter": {
     "source_hidden": true
    }
   },
   "outputs": [
    {
     "data": {
      "application/vnd.plotly.v1+json": {
       "config": {
        "plotlyServerURL": "https://plot.ly"
       },
       "data": [
        {
         "hovertemplate": "%{x|%Y-%m-%d}<br>%{y:,.0f}<extra>DLR012026</extra>",
         "name": "DLR012026",
         "text": [
          "23.6k",
          "48.0k",
          "29.0k",
          "16.8k",
          "30.1k",
          "8.9k",
          "76.8k",
          "64.3k",
          "111.3k",
          "103.4k",
          "30.4k",
          "11.5k",
          "1.8k",
          "42.1k",
          "46.7k",
          "41.7k",
          "50.5k",
          "79.2k",
          "35.1k"
         ],
         "type": "bar",
         "x": [
          "2025-09-29",
          "2025-09-30",
          "2025-10-01",
          "2025-10-02",
          "2025-10-03",
          "2025-10-06",
          "2025-10-07",
          "2025-10-08",
          "2025-10-09",
          "2025-10-13",
          "2025-10-14",
          "2025-10-15",
          "2025-10-16",
          "2025-10-17",
          "2025-10-20",
          "2025-10-21",
          "2025-10-22",
          "2025-10-23",
          "2025-10-24"
         ],
         "y": {
          "bdata": "AAAAAAAP10AAAAAAYGvnQAAAAAAAVNxAAAAAAEBe0EAAAAAAgGDdQAAAAACAWsFAAAAAAGC98kAAAAAAoGnvQAAAAACQKftAAAAAALBA+UAAAAAAwLjdQAAAAAAAb8ZAAAAAAABgm0AAAAAAYJDkQAAAAADgzuZAAAAAAIBY5EAAAAAAwKvoQAAAAADgWPNAAAAAAIAi4UA=",
          "dtype": "f8"
         }
        },
        {
         "hovertemplate": "%{x|%Y-%m-%d}<br>%{y:,.0f}<extra>DLR022026</extra>",
         "name": "DLR022026",
         "text": [
          "8.5k",
          "77.6k",
          "3.6k",
          "14.7k",
          "17.3k",
          "11.3k",
          "5.9k",
          "67.7k",
          "12.3k",
          "61.7k",
          "5.3k",
          "11.5k",
          "1.1k",
          "6.8k",
          "24.4k",
          "4.2k",
          "35.7k",
          "27.5k",
          "30.9k"
         ],
         "type": "bar",
         "x": [
          "2025-09-29",
          "2025-09-30",
          "2025-10-01",
          "2025-10-02",
          "2025-10-03",
          "2025-10-06",
          "2025-10-07",
          "2025-10-08",
          "2025-10-09",
          "2025-10-13",
          "2025-10-14",
          "2025-10-15",
          "2025-10-16",
          "2025-10-17",
          "2025-10-20",
          "2025-10-21",
          "2025-10-22",
          "2025-10-23",
          "2025-10-24"
         ],
         "y": {
          "bdata": "AAAAAACHwEAAAAAAEPTyQAAAAAAAOKxAAAAAAIClzEAAAAAAAObQQAAAAAAAA8ZAAAAAAAD9tkAAAAAAUITwQAAAAAAA9cdAAAAAAOAh7kAAAAAAAMa0QAAAAAAAXsZAAAAAAADEkUAAAAAAAH66QAAAAAAA3NdAAAAAAABdsEAAAAAAAHThQAAAAACA29pAAAAAAIAx3kA=",
          "dtype": "f8"
         }
        },
        {
         "hovertemplate": "%{x|%Y-%m-%d}<br>%{y:,.0f}<extra>DLR032026</extra>",
         "name": "DLR032026",
         "text": [
          "4.7k",
          "8.9k",
          "123.9k",
          "7.4k",
          "23.0k",
          "471",
          "1.5k",
          "2.4k",
          "2.2k",
          "16.8k",
          "19.9k",
          "7.4k",
          "3.0k",
          "4.6k",
          "15.2k",
          "5.1k",
          "49.9k",
          "24.8k",
          "15.1k"
         ],
         "type": "bar",
         "x": [
          "2025-09-29",
          "2025-09-30",
          "2025-10-01",
          "2025-10-02",
          "2025-10-03",
          "2025-10-06",
          "2025-10-07",
          "2025-10-08",
          "2025-10-09",
          "2025-10-13",
          "2025-10-14",
          "2025-10-15",
          "2025-10-16",
          "2025-10-17",
          "2025-10-20",
          "2025-10-21",
          "2025-10-22",
          "2025-10-23",
          "2025-10-24"
         ],
         "y": {
          "bdata": "AAAAAABVskAAAAAAgGnBQAAAAACwPP5AAAAAAADivEAAAAAAAGvWQAAAAAAAcH1AAAAAAAAomEAAAAAAAJCiQAAAAAAAhqFAAAAAAMBi0EAAAAAAQHfTQAAAAAAAvrxAAAAAAADEp0AAAAAAANmxQAAAAACAmM1AAAAAAAAQtEAAAAAAIGLoQAAAAACAQNhAAAAAAIBpzUA=",
          "dtype": "f8"
         }
        },
        {
         "hovertemplate": "%{x|%Y-%m-%d}<br>%{y:,.0f}<extra>DLR042026</extra>",
         "name": "DLR042026",
         "text": [
          "11.6k",
          "4.5k",
          "71.1k",
          "8.4k",
          "11.2k",
          "16.3k",
          "72",
          "1.3k",
          "3.0k",
          "18.2k",
          "5.1k",
          "1.1k",
          "9.4k",
          "20.4k",
          "5.7k",
          "60.3k",
          "27.3k",
          "24.1k",
          "33.6k"
         ],
         "type": "bar",
         "x": [
          "2025-09-29",
          "2025-09-30",
          "2025-10-01",
          "2025-10-02",
          "2025-10-03",
          "2025-10-06",
          "2025-10-07",
          "2025-10-08",
          "2025-10-09",
          "2025-10-13",
          "2025-10-14",
          "2025-10-15",
          "2025-10-16",
          "2025-10-17",
          "2025-10-20",
          "2025-10-21",
          "2025-10-22",
          "2025-10-23",
          "2025-10-24"
         ],
         "y": {
          "bdata": "AAAAAACuxkAAAAAAAGaxQAAAAACgWvFAAAAAAABbwEAAAAAAgN/FQAAAAAAA0c9AAAAAAAAAUkAAAAAAAFiUQAAAAAAAcKdAAAAAAIDQ0UAAAAAAAPKzQAAAAAAAwJBAAAAAAAB1wkAAAAAAQPTTQAAAAAAAKbZAAAAAAEB17UAAAAAAgKDaQAAAAACAh9dAAAAAAGBs4EA=",
          "dtype": "f8"
         }
        },
        {
         "hovertemplate": "%{x|%Y-%m-%d}<br>%{y:,.0f}<extra>DLR052026</extra>",
         "name": "DLR052026",
         "text": [
          "100.7k",
          "126.7k",
          "105.3k",
          "70.0k",
          "72.3k",
          "69.2k",
          "63.5k",
          "40.7k",
          "64.1k",
          "136.6k",
          "56.7k",
          "91.0k",
          "51.6k",
          "35.6k",
          "44.3k",
          "47.0k",
          "45.2k",
          "171.8k",
          "93.2k"
         ],
         "type": "bar",
         "x": [
          "2025-09-29",
          "2025-09-30",
          "2025-10-01",
          "2025-10-02",
          "2025-10-03",
          "2025-10-06",
          "2025-10-07",
          "2025-10-08",
          "2025-10-09",
          "2025-10-13",
          "2025-10-14",
          "2025-10-15",
          "2025-10-16",
          "2025-10-17",
          "2025-10-20",
          "2025-10-21",
          "2025-10-22",
          "2025-10-23",
          "2025-10-24"
         ],
         "y": {
          "bdata": "AAAAADCY+EAAAAAAAO7+QAAAAADAs/lAAAAAAEAU8UAAAAAAYKTxQAAAAACA5PBAAAAAAAAF70AAAAAAoOTjQAAAAACARu9AAAAAAOirAEEAAAAAAK3rQAAAAADAOfZAAAAAAAAs6UAAAAAAgF3hQAAAAACgouVAAAAAAEDx5kAAAAAAAA/mQAAAAAA4+QRBAAAAANDA9kA=",
          "dtype": "f8"
         }
        },
        {
         "hovertemplate": "%{x|%Y-%m-%d}<br>%{y:,.0f}<extra>DLR062026</extra>",
         "name": "DLR062026",
         "text": [
          "542",
          "271",
          "18.9k",
          "21.1k",
          "11.7k",
          "1.2k",
          "7.5k",
          "13.3k",
          "9.3k",
          "625",
          "4.3k",
          "10.4k",
          "1.1k",
          "2.2k",
          "1.6k",
          "9.7k",
          "8.8k",
          "2.3k",
          "1.2k"
         ],
         "type": "bar",
         "x": [
          "2025-09-29",
          "2025-09-30",
          "2025-10-01",
          "2025-10-02",
          "2025-10-03",
          "2025-10-06",
          "2025-10-07",
          "2025-10-08",
          "2025-10-09",
          "2025-10-13",
          "2025-10-14",
          "2025-10-15",
          "2025-10-16",
          "2025-10-17",
          "2025-10-20",
          "2025-10-21",
          "2025-10-22",
          "2025-10-23",
          "2025-10-24"
         ],
         "y": {
          "bdata": "AAAAAADwgEAAAAAAAPBwQAAAAADAaNJAAAAAAACg1EAAAAAAgOPGQAAAAAAAYJJAAAAAAAAjvUAAAAAAAOLJQAAAAAAAOMJAAAAAAACIg0AAAAAAAKawQAAAAACAP8RAAAAAAAAokUAAAAAAAB6hQAAAAAAAYJhAAAAAAADpwkAAAAAAgCnBQAAAAAAAUqJAAAAAAABgkkA=",
          "dtype": "f8"
         }
        },
        {
         "hovertemplate": "%{x|%Y-%m-%d}<br>%{y:,.0f}<extra>DLR072026</extra>",
         "name": "DLR072026",
         "text": [
          "5",
          "40.0k",
          "72",
          "54",
          "2",
          "nan",
          "4",
          "40.1k",
          "nan",
          "40.1k",
          "3",
          "nan",
          "nan",
          "nan",
          "1",
          "39",
          "nan",
          "101",
          "nan"
         ],
         "type": "bar",
         "x": [
          "2025-09-29",
          "2025-09-30",
          "2025-10-01",
          "2025-10-02",
          "2025-10-03",
          "2025-10-06",
          "2025-10-07",
          "2025-10-08",
          "2025-10-09",
          "2025-10-13",
          "2025-10-14",
          "2025-10-15",
          "2025-10-16",
          "2025-10-17",
          "2025-10-20",
          "2025-10-21",
          "2025-10-22",
          "2025-10-23",
          "2025-10-24"
         ],
         "y": {
          "bdata": "AAAAAAAAFEAAAAAAAIjjQAAAAAAAAFJAAAAAAAAAS0AAAAAAAAAAQAAAAAAAAPh/AAAAAAAAEEAAAAAAII/jQAAAAAAAAPh/AAAAAACW40AAAAAAAAAIQAAAAAAAAPh/AAAAAAAA+H8AAAAAAAD4fwAAAAAAAPA/AAAAAACAQ0AAAAAAAAD4fwAAAAAAQFlAAAAAAAAA+H8=",
          "dtype": "f8"
         }
        },
        {
         "hovertemplate": "%{x|%Y-%m-%d}<br>%{y:,.0f}<extra>DLR082026</extra>",
         "name": "DLR082026",
         "text": [
          "nan",
          "nan",
          "73",
          "nan",
          "nan",
          "nan",
          "nan",
          "3",
          "nan",
          "1",
          "nan",
          "nan",
          "nan",
          "nan",
          "nan",
          "2",
          "nan",
          "nan",
          "nan"
         ],
         "type": "bar",
         "x": [
          "2025-09-29",
          "2025-09-30",
          "2025-10-01",
          "2025-10-02",
          "2025-10-03",
          "2025-10-06",
          "2025-10-07",
          "2025-10-08",
          "2025-10-09",
          "2025-10-13",
          "2025-10-14",
          "2025-10-15",
          "2025-10-16",
          "2025-10-17",
          "2025-10-20",
          "2025-10-21",
          "2025-10-22",
          "2025-10-23",
          "2025-10-24"
         ],
         "y": {
          "bdata": "AAAAAAAA+H8AAAAAAAD4fwAAAAAAQFJAAAAAAAAA+H8AAAAAAAD4fwAAAAAAAPh/AAAAAAAA+H8AAAAAAAAIQAAAAAAAAPh/AAAAAAAA8D8AAAAAAAD4fwAAAAAAAPh/AAAAAAAA+H8AAAAAAAD4fwAAAAAAAPh/AAAAAAAAAEAAAAAAAAD4fwAAAAAAAPh/AAAAAAAA+H8=",
          "dtype": "f8"
         }
        },
        {
         "hovertemplate": "%{x|%Y-%m-%d}<br>%{y:,.0f}<extra>DLR092025</extra>",
         "name": "DLR092025",
         "text": [
          "449.9k",
          "301.5k",
          "nan",
          "nan",
          "nan",
          "nan",
          "nan",
          "nan",
          "nan",
          "nan",
          "nan",
          "nan",
          "nan",
          "nan",
          "nan",
          "nan",
          "nan",
          "nan",
          "nan"
         ],
         "type": "bar",
         "x": [
          "2025-09-29",
          "2025-09-30",
          "2025-10-01",
          "2025-10-02",
          "2025-10-03",
          "2025-10-06",
          "2025-10-07",
          "2025-10-08",
          "2025-10-09",
          "2025-10-13",
          "2025-10-14",
          "2025-10-15",
          "2025-10-16",
          "2025-10-17",
          "2025-10-20",
          "2025-10-21",
          "2025-10-22",
          "2025-10-23",
          "2025-10-24"
         ],
         "y": {
          "bdata": "AAAAAER2G0EAAAAAaGYSQQAAAAAAAPh/AAAAAAAA+H8AAAAAAAD4fwAAAAAAAPh/AAAAAAAA+H8AAAAAAAD4fwAAAAAAAPh/AAAAAAAA+H8AAAAAAAD4fwAAAAAAAPh/AAAAAAAA+H8AAAAAAAD4fwAAAAAAAPh/AAAAAAAA+H8AAAAAAAD4fwAAAAAAAPh/AAAAAAAA+H8=",
          "dtype": "f8"
         }
        },
        {
         "hovertemplate": "%{x|%Y-%m-%d}<br>%{y:,.0f}<extra>DLR092026</extra>",
         "name": "DLR092026",
         "text": [
          "nan",
          "nan",
          "2",
          "nan",
          "nan",
          "nan",
          "nan",
          "nan",
          "2",
          "nan",
          "nan",
          "1",
          "nan",
          "nan",
          "1",
          "5",
          "1",
          "2",
          "5"
         ],
         "type": "bar",
         "x": [
          "2025-09-29",
          "2025-09-30",
          "2025-10-01",
          "2025-10-02",
          "2025-10-03",
          "2025-10-06",
          "2025-10-07",
          "2025-10-08",
          "2025-10-09",
          "2025-10-13",
          "2025-10-14",
          "2025-10-15",
          "2025-10-16",
          "2025-10-17",
          "2025-10-20",
          "2025-10-21",
          "2025-10-22",
          "2025-10-23",
          "2025-10-24"
         ],
         "y": {
          "bdata": "AAAAAAAA+H8AAAAAAAD4fwAAAAAAAABAAAAAAAAA+H8AAAAAAAD4fwAAAAAAAPh/AAAAAAAA+H8AAAAAAAD4fwAAAAAAAABAAAAAAAAA+H8AAAAAAAD4fwAAAAAAAPA/AAAAAAAA+H8AAAAAAAD4fwAAAAAAAPA/AAAAAAAAFEAAAAAAAADwPwAAAAAAAABAAAAAAAAAFEA=",
          "dtype": "f8"
         }
        },
        {
         "hovertemplate": "%{x|%Y-%m-%d}<br>%{y:,.0f}<extra>DLR102025</extra>",
         "name": "DLR102025",
         "text": [
          "591.6k",
          "957.2k",
          "692.1k",
          "968.5k",
          "305.1k",
          "327.5k",
          "263.1k",
          "260.1k",
          "467.0k",
          "819.9k",
          "1.1M",
          "1.5M",
          "805.3k",
          "1.2M",
          "621.8k",
          "484.1k",
          "421.2k",
          "500.7k",
          "392.4k"
         ],
         "type": "bar",
         "x": [
          "2025-09-29",
          "2025-09-30",
          "2025-10-01",
          "2025-10-02",
          "2025-10-03",
          "2025-10-06",
          "2025-10-07",
          "2025-10-08",
          "2025-10-09",
          "2025-10-13",
          "2025-10-14",
          "2025-10-15",
          "2025-10-16",
          "2025-10-17",
          "2025-10-20",
          "2025-10-21",
          "2025-10-22",
          "2025-10-23",
          "2025-10-24"
         ],
         "y": {
          "bdata": "AAAAAKwNIkEAAAAASjYtQQAAAAAkHyVBAAAAAFyOLUEAAAAAVJ8SQQAAAAB4/RNBAAAAAJwOEEEAAAAAwL8PQQAAAAAYgRxBAAAAAF4FKUEAAAAAFYYwQQAAAAAoSzZBAAAAAC6TKEEAAAAAxPExQQAAAAAe+iJBAAAAAGiLHUEAAAAA/LUZQQAAAAA0jx5BAAAAABzzF0E=",
          "dtype": "f8"
         }
        },
        {
         "hovertemplate": "%{x|%Y-%m-%d}<br>%{y:,.0f}<extra>DLR112025</extra>",
         "name": "DLR112025",
         "text": [
          "814.0k",
          "250.4k",
          "259.5k",
          "145.0k",
          "854.2k",
          "283.8k",
          "348.2k",
          "349.0k",
          "491.6k",
          "475.3k",
          "306.6k",
          "435.9k",
          "315.6k",
          "328.5k",
          "322.4k",
          "146.3k",
          "250.8k",
          "304.8k",
          "288.3k"
         ],
         "type": "bar",
         "x": [
          "2025-09-29",
          "2025-09-30",
          "2025-10-01",
          "2025-10-02",
          "2025-10-03",
          "2025-10-06",
          "2025-10-07",
          "2025-10-08",
          "2025-10-09",
          "2025-10-13",
          "2025-10-14",
          "2025-10-15",
          "2025-10-16",
          "2025-10-17",
          "2025-10-20",
          "2025-10-21",
          "2025-10-22",
          "2025-10-23",
          "2025-10-24"
         ],
         "y": {
          "bdata": "AAAAAP7WKEEAAAAAWJAOQQAAAABgrA9BAAAAALiyAUEAAAAAEhEqQQAAAAAEUhFBAAAAAFBBFUEAAAAAuEwVQQAAAAAkAR5BAAAAAAQDHUEAAAAAOLcSQQAAAABImhpBAAAAANRCE0EAAAAA3AwUQQAAAAB4rRNBAAAAAMjbAUEAAAAAcJwOQQAAAADcmRJBAAAAAEiYEUE=",
          "dtype": "f8"
         }
        },
        {
         "hovertemplate": "%{x|%Y-%m-%d}<br>%{y:,.0f}<extra>DLR122025</extra>",
         "name": "DLR122025",
         "text": [
          "57.9k",
          "130.1k",
          "98.8k",
          "47.7k",
          "151.4k",
          "25.2k",
          "187.8k",
          "327.0k",
          "389.4k",
          "236.3k",
          "120.6k",
          "113.3k",
          "91.0k",
          "71.8k",
          "58.3k",
          "39.1k",
          "104.7k",
          "178.7k",
          "75.8k"
         ],
         "type": "bar",
         "x": [
          "2025-09-29",
          "2025-09-30",
          "2025-10-01",
          "2025-10-02",
          "2025-10-03",
          "2025-10-06",
          "2025-10-07",
          "2025-10-08",
          "2025-10-09",
          "2025-10-13",
          "2025-10-14",
          "2025-10-15",
          "2025-10-16",
          "2025-10-17",
          "2025-10-20",
          "2025-10-21",
          "2025-10-22",
          "2025-10-23",
          "2025-10-24"
         ],
         "y": {
          "bdata": "AAAAAMBI7EAAAAAAcMT/QAAAAADgHPhAAAAAAGBF50AAAAAAiHoCQQAAAAAAmthAAAAAAFjrBkEAAAAA4PQTQQAAAACsxBdBAAAAAPDZDEEAAAAAAHD9QAAAAACQqvtAAAAAACA59kAAAAAAgIfxQAAAAADAfOxAAAAAAEAV40AAAAAAoI35QAAAAADA0AVBAAAAAICD8kA=",
          "dtype": "f8"
         }
        }
       ],
       "layout": {
        "barmode": "stack",
        "height": 600,
        "hovermode": "x unified",
        "legend": {
         "title": {
          "text": "Volume"
         }
        },
        "template": {
         "data": {
          "bar": [
           {
            "error_x": {
             "color": "#2a3f5f"
            },
            "error_y": {
             "color": "#2a3f5f"
            },
            "marker": {
             "line": {
              "color": "#E5ECF6",
              "width": 0.5
             },
             "pattern": {
              "fillmode": "overlay",
              "size": 10,
              "solidity": 0.2
             }
            },
            "type": "bar"
           }
          ],
          "barpolar": [
           {
            "marker": {
             "line": {
              "color": "#E5ECF6",
              "width": 0.5
             },
             "pattern": {
              "fillmode": "overlay",
              "size": 10,
              "solidity": 0.2
             }
            },
            "type": "barpolar"
           }
          ],
          "carpet": [
           {
            "aaxis": {
             "endlinecolor": "#2a3f5f",
             "gridcolor": "white",
             "linecolor": "white",
             "minorgridcolor": "white",
             "startlinecolor": "#2a3f5f"
            },
            "baxis": {
             "endlinecolor": "#2a3f5f",
             "gridcolor": "white",
             "linecolor": "white",
             "minorgridcolor": "white",
             "startlinecolor": "#2a3f5f"
            },
            "type": "carpet"
           }
          ],
          "choropleth": [
           {
            "colorbar": {
             "outlinewidth": 0,
             "ticks": ""
            },
            "type": "choropleth"
           }
          ],
          "contour": [
           {
            "colorbar": {
             "outlinewidth": 0,
             "ticks": ""
            },
            "colorscale": [
             [
              0,
              "#0d0887"
             ],
             [
              0.1111111111111111,
              "#46039f"
             ],
             [
              0.2222222222222222,
              "#7201a8"
             ],
             [
              0.3333333333333333,
              "#9c179e"
             ],
             [
              0.4444444444444444,
              "#bd3786"
             ],
             [
              0.5555555555555556,
              "#d8576b"
             ],
             [
              0.6666666666666666,
              "#ed7953"
             ],
             [
              0.7777777777777778,
              "#fb9f3a"
             ],
             [
              0.8888888888888888,
              "#fdca26"
             ],
             [
              1,
              "#f0f921"
             ]
            ],
            "type": "contour"
           }
          ],
          "contourcarpet": [
           {
            "colorbar": {
             "outlinewidth": 0,
             "ticks": ""
            },
            "type": "contourcarpet"
           }
          ],
          "heatmap": [
           {
            "colorbar": {
             "outlinewidth": 0,
             "ticks": ""
            },
            "colorscale": [
             [
              0,
              "#0d0887"
             ],
             [
              0.1111111111111111,
              "#46039f"
             ],
             [
              0.2222222222222222,
              "#7201a8"
             ],
             [
              0.3333333333333333,
              "#9c179e"
             ],
             [
              0.4444444444444444,
              "#bd3786"
             ],
             [
              0.5555555555555556,
              "#d8576b"
             ],
             [
              0.6666666666666666,
              "#ed7953"
             ],
             [
              0.7777777777777778,
              "#fb9f3a"
             ],
             [
              0.8888888888888888,
              "#fdca26"
             ],
             [
              1,
              "#f0f921"
             ]
            ],
            "type": "heatmap"
           }
          ],
          "histogram": [
           {
            "marker": {
             "pattern": {
              "fillmode": "overlay",
              "size": 10,
              "solidity": 0.2
             }
            },
            "type": "histogram"
           }
          ],
          "histogram2d": [
           {
            "colorbar": {
             "outlinewidth": 0,
             "ticks": ""
            },
            "colorscale": [
             [
              0,
              "#0d0887"
             ],
             [
              0.1111111111111111,
              "#46039f"
             ],
             [
              0.2222222222222222,
              "#7201a8"
             ],
             [
              0.3333333333333333,
              "#9c179e"
             ],
             [
              0.4444444444444444,
              "#bd3786"
             ],
             [
              0.5555555555555556,
              "#d8576b"
             ],
             [
              0.6666666666666666,
              "#ed7953"
             ],
             [
              0.7777777777777778,
              "#fb9f3a"
             ],
             [
              0.8888888888888888,
              "#fdca26"
             ],
             [
              1,
              "#f0f921"
             ]
            ],
            "type": "histogram2d"
           }
          ],
          "histogram2dcontour": [
           {
            "colorbar": {
             "outlinewidth": 0,
             "ticks": ""
            },
            "colorscale": [
             [
              0,
              "#0d0887"
             ],
             [
              0.1111111111111111,
              "#46039f"
             ],
             [
              0.2222222222222222,
              "#7201a8"
             ],
             [
              0.3333333333333333,
              "#9c179e"
             ],
             [
              0.4444444444444444,
              "#bd3786"
             ],
             [
              0.5555555555555556,
              "#d8576b"
             ],
             [
              0.6666666666666666,
              "#ed7953"
             ],
             [
              0.7777777777777778,
              "#fb9f3a"
             ],
             [
              0.8888888888888888,
              "#fdca26"
             ],
             [
              1,
              "#f0f921"
             ]
            ],
            "type": "histogram2dcontour"
           }
          ],
          "mesh3d": [
           {
            "colorbar": {
             "outlinewidth": 0,
             "ticks": ""
            },
            "type": "mesh3d"
           }
          ],
          "parcoords": [
           {
            "line": {
             "colorbar": {
              "outlinewidth": 0,
              "ticks": ""
             }
            },
            "type": "parcoords"
           }
          ],
          "pie": [
           {
            "automargin": true,
            "type": "pie"
           }
          ],
          "scatter": [
           {
            "fillpattern": {
             "fillmode": "overlay",
             "size": 10,
             "solidity": 0.2
            },
            "type": "scatter"
           }
          ],
          "scatter3d": [
           {
            "line": {
             "colorbar": {
              "outlinewidth": 0,
              "ticks": ""
             }
            },
            "marker": {
             "colorbar": {
              "outlinewidth": 0,
              "ticks": ""
             }
            },
            "type": "scatter3d"
           }
          ],
          "scattercarpet": [
           {
            "marker": {
             "colorbar": {
              "outlinewidth": 0,
              "ticks": ""
             }
            },
            "type": "scattercarpet"
           }
          ],
          "scattergeo": [
           {
            "marker": {
             "colorbar": {
              "outlinewidth": 0,
              "ticks": ""
             }
            },
            "type": "scattergeo"
           }
          ],
          "scattergl": [
           {
            "marker": {
             "colorbar": {
              "outlinewidth": 0,
              "ticks": ""
             }
            },
            "type": "scattergl"
           }
          ],
          "scattermap": [
           {
            "marker": {
             "colorbar": {
              "outlinewidth": 0,
              "ticks": ""
             }
            },
            "type": "scattermap"
           }
          ],
          "scattermapbox": [
           {
            "marker": {
             "colorbar": {
              "outlinewidth": 0,
              "ticks": ""
             }
            },
            "type": "scattermapbox"
           }
          ],
          "scatterpolar": [
           {
            "marker": {
             "colorbar": {
              "outlinewidth": 0,
              "ticks": ""
             }
            },
            "type": "scatterpolar"
           }
          ],
          "scatterpolargl": [
           {
            "marker": {
             "colorbar": {
              "outlinewidth": 0,
              "ticks": ""
             }
            },
            "type": "scatterpolargl"
           }
          ],
          "scatterternary": [
           {
            "marker": {
             "colorbar": {
              "outlinewidth": 0,
              "ticks": ""
             }
            },
            "type": "scatterternary"
           }
          ],
          "surface": [
           {
            "colorbar": {
             "outlinewidth": 0,
             "ticks": ""
            },
            "colorscale": [
             [
              0,
              "#0d0887"
             ],
             [
              0.1111111111111111,
              "#46039f"
             ],
             [
              0.2222222222222222,
              "#7201a8"
             ],
             [
              0.3333333333333333,
              "#9c179e"
             ],
             [
              0.4444444444444444,
              "#bd3786"
             ],
             [
              0.5555555555555556,
              "#d8576b"
             ],
             [
              0.6666666666666666,
              "#ed7953"
             ],
             [
              0.7777777777777778,
              "#fb9f3a"
             ],
             [
              0.8888888888888888,
              "#fdca26"
             ],
             [
              1,
              "#f0f921"
             ]
            ],
            "type": "surface"
           }
          ],
          "table": [
           {
            "cells": {
             "fill": {
              "color": "#EBF0F8"
             },
             "line": {
              "color": "white"
             }
            },
            "header": {
             "fill": {
              "color": "#C8D4E3"
             },
             "line": {
              "color": "white"
             }
            },
            "type": "table"
           }
          ]
         },
         "layout": {
          "annotationdefaults": {
           "arrowcolor": "#2a3f5f",
           "arrowhead": 0,
           "arrowwidth": 1
          },
          "autotypenumbers": "strict",
          "coloraxis": {
           "colorbar": {
            "outlinewidth": 0,
            "ticks": ""
           }
          },
          "colorscale": {
           "diverging": [
            [
             0,
             "#8e0152"
            ],
            [
             0.1,
             "#c51b7d"
            ],
            [
             0.2,
             "#de77ae"
            ],
            [
             0.3,
             "#f1b6da"
            ],
            [
             0.4,
             "#fde0ef"
            ],
            [
             0.5,
             "#f7f7f7"
            ],
            [
             0.6,
             "#e6f5d0"
            ],
            [
             0.7,
             "#b8e186"
            ],
            [
             0.8,
             "#7fbc41"
            ],
            [
             0.9,
             "#4d9221"
            ],
            [
             1,
             "#276419"
            ]
           ],
           "sequential": [
            [
             0,
             "#0d0887"
            ],
            [
             0.1111111111111111,
             "#46039f"
            ],
            [
             0.2222222222222222,
             "#7201a8"
            ],
            [
             0.3333333333333333,
             "#9c179e"
            ],
            [
             0.4444444444444444,
             "#bd3786"
            ],
            [
             0.5555555555555556,
             "#d8576b"
            ],
            [
             0.6666666666666666,
             "#ed7953"
            ],
            [
             0.7777777777777778,
             "#fb9f3a"
            ],
            [
             0.8888888888888888,
             "#fdca26"
            ],
            [
             1,
             "#f0f921"
            ]
           ],
           "sequentialminus": [
            [
             0,
             "#0d0887"
            ],
            [
             0.1111111111111111,
             "#46039f"
            ],
            [
             0.2222222222222222,
             "#7201a8"
            ],
            [
             0.3333333333333333,
             "#9c179e"
            ],
            [
             0.4444444444444444,
             "#bd3786"
            ],
            [
             0.5555555555555556,
             "#d8576b"
            ],
            [
             0.6666666666666666,
             "#ed7953"
            ],
            [
             0.7777777777777778,
             "#fb9f3a"
            ],
            [
             0.8888888888888888,
             "#fdca26"
            ],
            [
             1,
             "#f0f921"
            ]
           ]
          },
          "colorway": [
           "#636efa",
           "#EF553B",
           "#00cc96",
           "#ab63fa",
           "#FFA15A",
           "#19d3f3",
           "#FF6692",
           "#B6E880",
           "#FF97FF",
           "#FECB52"
          ],
          "font": {
           "color": "#2a3f5f"
          },
          "geo": {
           "bgcolor": "white",
           "lakecolor": "white",
           "landcolor": "#E5ECF6",
           "showlakes": true,
           "showland": true,
           "subunitcolor": "white"
          },
          "hoverlabel": {
           "align": "left"
          },
          "hovermode": "closest",
          "mapbox": {
           "style": "light"
          },
          "paper_bgcolor": "white",
          "plot_bgcolor": "#E5ECF6",
          "polar": {
           "angularaxis": {
            "gridcolor": "white",
            "linecolor": "white",
            "ticks": ""
           },
           "bgcolor": "#E5ECF6",
           "radialaxis": {
            "gridcolor": "white",
            "linecolor": "white",
            "ticks": ""
           }
          },
          "scene": {
           "xaxis": {
            "backgroundcolor": "#E5ECF6",
            "gridcolor": "white",
            "gridwidth": 2,
            "linecolor": "white",
            "showbackground": true,
            "ticks": "",
            "zerolinecolor": "white"
           },
           "yaxis": {
            "backgroundcolor": "#E5ECF6",
            "gridcolor": "white",
            "gridwidth": 2,
            "linecolor": "white",
            "showbackground": true,
            "ticks": "",
            "zerolinecolor": "white"
           },
           "zaxis": {
            "backgroundcolor": "#E5ECF6",
            "gridcolor": "white",
            "gridwidth": 2,
            "linecolor": "white",
            "showbackground": true,
            "ticks": "",
            "zerolinecolor": "white"
           }
          },
          "shapedefaults": {
           "line": {
            "color": "#2a3f5f"
           }
          },
          "ternary": {
           "aaxis": {
            "gridcolor": "white",
            "linecolor": "white",
            "ticks": ""
           },
           "baxis": {
            "gridcolor": "white",
            "linecolor": "white",
            "ticks": ""
           },
           "bgcolor": "#E5ECF6",
           "caxis": {
            "gridcolor": "white",
            "linecolor": "white",
            "ticks": ""
           }
          },
          "title": {
           "x": 0.05
          },
          "xaxis": {
           "automargin": true,
           "gridcolor": "white",
           "linecolor": "white",
           "ticks": "",
           "title": {
            "standoff": 15
           },
           "zerolinecolor": "white",
           "zerolinewidth": 2
          },
          "yaxis": {
           "automargin": true,
           "gridcolor": "white",
           "linecolor": "white",
           "ticks": "",
           "title": {
            "standoff": 15
           },
           "zerolinecolor": "white",
           "zerolinewidth": 2
          }
         }
        },
        "title": {
         "text": "Volume Over Time"
        },
        "width": 1000,
        "xaxis": {
         "title": {
          "text": "Date"
         },
         "type": "category"
        },
        "yaxis": {
         "title": {
          "text": "Volume"
         }
        }
       }
      }
     },
     "metadata": {},
     "output_type": "display_data"
    },
    {
     "data": {
      "application/vnd.plotly.v1+json": {
       "config": {
        "plotlyServerURL": "https://plot.ly"
       },
       "data": [
        {
         "hovertemplate": "%{x|%Y-%m-%d}<br>%{y:,.0f}<extra>DLR012026</extra>",
         "name": "DLR012026",
         "text": [
          "592.1k",
          "594.2k",
          "603.9k",
          "606.4k",
          "606.8k",
          "604.7k",
          "577.7k",
          "605.8k",
          "637.6k",
          "669.5k",
          "675.0k",
          "673.2k",
          "673.2k",
          "681.0k",
          "680.5k",
          "653.3k",
          "669.6k",
          "661.5k",
          "667.6k"
         ],
         "type": "bar",
         "x": [
          "2025-09-29",
          "2025-09-30",
          "2025-10-01",
          "2025-10-02",
          "2025-10-03",
          "2025-10-06",
          "2025-10-07",
          "2025-10-08",
          "2025-10-09",
          "2025-10-13",
          "2025-10-14",
          "2025-10-15",
          "2025-10-16",
          "2025-10-17",
          "2025-10-20",
          "2025-10-21",
          "2025-10-22",
          "2025-10-23",
          "2025-10-24"
         ],
         "y": {
          "bdata": "AAAAAHQRIkEAAAAAhCIiQQAAAAAGbiJBAAAAADaBIkEAAAAAhoQiQQAAAAAcdCJBAAAAAEShIUEAAAAAynwiQQAAAABIdSNBAAAAANhuJEEAAAAAdpkkQQAAAACkiyRBAAAAADqLJEEAAAAASsgkQQAAAACqxCRBAAAAAEDwI0EAAAAAim8kQQAAAADILyRBAAAAAEBfJEE=",
          "dtype": "f8"
         }
        },
        {
         "hovertemplate": "%{x|%Y-%m-%d}<br>%{y:,.0f}<extra>DLR022026</extra>",
         "name": "DLR022026",
         "text": [
          "255.7k",
          "216.2k",
          "219.1k",
          "225.0k",
          "219.0k",
          "224.9k",
          "226.0k",
          "239.9k",
          "242.1k",
          "219.2k",
          "217.9k",
          "217.7k",
          "218.2k",
          "222.4k",
          "228.8k",
          "231.0k",
          "223.0k",
          "226.8k",
          "236.7k"
         ],
         "type": "bar",
         "x": [
          "2025-09-29",
          "2025-09-30",
          "2025-10-01",
          "2025-10-02",
          "2025-10-03",
          "2025-10-06",
          "2025-10-07",
          "2025-10-08",
          "2025-10-09",
          "2025-10-13",
          "2025-10-14",
          "2025-10-15",
          "2025-10-16",
          "2025-10-17",
          "2025-10-20",
          "2025-10-21",
          "2025-10-22",
          "2025-10-23",
          "2025-10-24"
         ],
         "y": {
          "bdata": "AAAAAKA3D0EAAAAAEGUKQQAAAAAowApBAAAAAAh3C0EAAAAAsLsKQQAAAADIcgtBAAAAAKCVC0EAAAAAmEcNQQAAAAAAjg1BAAAAAEjCCkEAAAAAGJgKQQAAAACQkQpBAAAAANiiCkEAAAAAQCcLQQAAAAAY7wtBAAAAAAg0DEEAAAAAuDcLQQAAAACwrwtBAAAAALDkDEE=",
          "dtype": "f8"
         }
        },
        {
         "hovertemplate": "%{x|%Y-%m-%d}<br>%{y:,.0f}<extra>DLR032026</extra>",
         "name": "DLR032026",
         "text": [
          "323.6k",
          "325.0k",
          "336.9k",
          "335.9k",
          "328.6k",
          "328.6k",
          "328.6k",
          "328.6k",
          "328.6k",
          "330.0k",
          "333.1k",
          "335.1k",
          "335.1k",
          "335.2k",
          "333.3k",
          "333.1k",
          "338.5k",
          "338.2k",
          "336.2k"
         ],
         "type": "bar",
         "x": [
          "2025-09-29",
          "2025-09-30",
          "2025-10-01",
          "2025-10-02",
          "2025-10-03",
          "2025-10-06",
          "2025-10-07",
          "2025-10-08",
          "2025-10-09",
          "2025-10-13",
          "2025-10-14",
          "2025-10-15",
          "2025-10-16",
          "2025-10-17",
          "2025-10-20",
          "2025-10-21",
          "2025-10-22",
          "2025-10-23",
          "2025-10-24"
         ],
         "y": {
          "bdata": "AAAAAGzAE0EAAAAAWNYTQQAAAACcjxRBAAAAACyBFEEAAAAAOA4UQQAAAACgDRRBAAAAALgOFEEAAAAAuA4UQQAAAAAEDxRBAAAAAFgkFEEAAAAArFQUQQAAAAD0cxRBAAAAAPxzFEEAAAAABHUUQQAAAACMVxRBAAAAAARVFEEAAAAAdKkUQQAAAAC0oxRBAAAAAASFFEE=",
          "dtype": "f8"
         }
        },
        {
         "hovertemplate": "%{x|%Y-%m-%d}<br>%{y:,.0f}<extra>DLR042026</extra>",
         "name": "DLR042026",
         "text": [
          "478.1k",
          "478.1k",
          "480.1k",
          "478.5k",
          "478.4k",
          "478.9k",
          "478.9k",
          "478.9k",
          "478.9k",
          "482.0k",
          "482.0k",
          "482.0k",
          "482.0k",
          "479.0k",
          "479.0k",
          "482.2k",
          "482.2k",
          "485.3k",
          "485.3k"
         ],
         "type": "bar",
         "x": [
          "2025-09-29",
          "2025-09-30",
          "2025-10-01",
          "2025-10-02",
          "2025-10-03",
          "2025-10-06",
          "2025-10-07",
          "2025-10-08",
          "2025-10-09",
          "2025-10-13",
          "2025-10-14",
          "2025-10-15",
          "2025-10-16",
          "2025-10-17",
          "2025-10-20",
          "2025-10-21",
          "2025-10-22",
          "2025-10-23",
          "2025-10-24"
         ],
         "y": {
          "bdata": "AAAAAPAuHUEAAAAAAC8dQQAAAAAYTh1BAAAAAOQzHUEAAAAAvDMdQQAAAACMOx1BAAAAAIw7HUEAAAAAjDsdQQAAAACMOx1BAAAAAKBqHUEAAAAAoGodQQAAAADQah1BAAAAAFhrHUEAAAAA6DwdQQAAAAD0PB1BAAAAAMxtHUEAAAAA/G0dQQAAAACAnx1BAAAAAIyfHUE=",
          "dtype": "f8"
         }
        },
        {
         "hovertemplate": "%{x|%Y-%m-%d}<br>%{y:,.0f}<extra>DLR052026</extra>",
         "name": "DLR052026",
         "text": [
          "2.0M",
          "1.9M",
          "2.0M",
          "2.0M",
          "2.0M",
          "2.0M",
          "2.0M",
          "2.0M",
          "2.0M",
          "2.0M",
          "2.0M",
          "2.0M",
          "2.0M",
          "2.0M",
          "2.0M",
          "2.0M",
          "2.0M",
          "2.0M",
          "2.0M"
         ],
         "type": "bar",
         "x": [
          "2025-09-29",
          "2025-09-30",
          "2025-10-01",
          "2025-10-02",
          "2025-10-03",
          "2025-10-06",
          "2025-10-07",
          "2025-10-08",
          "2025-10-09",
          "2025-10-13",
          "2025-10-14",
          "2025-10-15",
          "2025-10-16",
          "2025-10-17",
          "2025-10-20",
          "2025-10-21",
          "2025-10-22",
          "2025-10-23",
          "2025-10-24"
         ],
         "y": {
          "bdata": "AAAAAJriPUEAAAAAG749QQAAAACsjz5BAAAAAHGnPkEAAAAA+KU+QQAAAABQpj5BAAAAAEuWPkEAAAAAm6M+QQAAAAD97z5BAAAAAPzbPkEAAAAAQ+4+QQAAAACG4j5BAAAAAOTjPkEAAAAAiuI+QQAAAAC/7z5BAAAAAA/5PkEAAAAAZg8/QQAAAACwKT9BAAAAAKcXP0E=",
          "dtype": "f8"
         }
        },
        {
         "hovertemplate": "%{x|%Y-%m-%d}<br>%{y:,.0f}<extra>DLR062026</extra>",
         "name": "DLR062026",
         "text": [
          "45.3k",
          "45.4k",
          "58.5k",
          "64.3k",
          "71.3k",
          "71.7k",
          "75.2k",
          "81.1k",
          "84.6k",
          "84.7k",
          "85.9k",
          "85.1k",
          "85.0k",
          "85.0k",
          "84.4k",
          "80.9k",
          "82.0k",
          "83.1k",
          "82.3k"
         ],
         "type": "bar",
         "x": [
          "2025-09-29",
          "2025-09-30",
          "2025-10-01",
          "2025-10-02",
          "2025-10-03",
          "2025-10-06",
          "2025-10-07",
          "2025-10-08",
          "2025-10-09",
          "2025-10-13",
          "2025-10-14",
          "2025-10-15",
          "2025-10-16",
          "2025-10-17",
          "2025-10-20",
          "2025-10-21",
          "2025-10-22",
          "2025-10-23",
          "2025-10-24"
         ],
         "y": {
          "bdata": "AAAAAAAd5kAAAAAAwCfmQAAAAACgj+xAAAAAACBr70AAAAAAQGjxQAAAAADQfvFAAAAAAGBd8kAAAAAAUM7zQAAAAACgqfRAAAAAAACr9EAAAAAA0Pj0QAAAAADAxvRAAAAAALC99EAAAAAAcL70QAAAAACwmPRAAAAAAPDC80AAAAAAAAT0QAAAAACQS/RAAAAAAEAX9EA=",
          "dtype": "f8"
         }
        },
        {
         "hovertemplate": "%{x|%Y-%m-%d}<br>%{y:,.0f}<extra>DLR072026</extra>",
         "name": "DLR072026",
         "text": [
          "21.5k",
          "21.4k",
          "21.4k",
          "21.4k",
          "21.4k",
          "nan",
          "21.4k",
          "21.5k",
          "nan",
          "1.4k",
          "1.4k",
          "nan",
          "nan",
          "nan",
          "1.4k",
          "1.4k",
          "nan",
          "1.3k",
          "nan"
         ],
         "type": "bar",
         "x": [
          "2025-09-29",
          "2025-09-30",
          "2025-10-01",
          "2025-10-02",
          "2025-10-03",
          "2025-10-06",
          "2025-10-07",
          "2025-10-08",
          "2025-10-09",
          "2025-10-13",
          "2025-10-14",
          "2025-10-15",
          "2025-10-16",
          "2025-10-17",
          "2025-10-20",
          "2025-10-21",
          "2025-10-22",
          "2025-10-23",
          "2025-10-24"
         ],
         "y": {
          "bdata": "AAAAAAD01EAAAAAAgNvUQAAAAAAA39RAAAAAAADs1EAAAAAAAOzUQAAAAAAAAPh/AAAAAEDs1EAAAAAAwAbVQAAAAAAAAPh/AAAAAABYlkAAAAAAAFyWQAAAAAAAAPh/AAAAAAAA+H8AAAAAAAD4fwAAAAAAYJZAAAAAAADElUAAAAAAAAD4fwAAAAAADJVAAAAAAAAA+H8=",
          "dtype": "f8"
         }
        },
        {
         "hovertemplate": "%{x|%Y-%m-%d}<br>%{y:,.0f}<extra>DLR082026</extra>",
         "name": "DLR082026",
         "text": [
          "nan",
          "nan",
          "407",
          "nan",
          "nan",
          "nan",
          "nan",
          "410",
          "nan",
          "409",
          "nan",
          "nan",
          "nan",
          "nan",
          "nan",
          "408",
          "nan",
          "nan",
          "nan"
         ],
         "type": "bar",
         "x": [
          "2025-09-29",
          "2025-09-30",
          "2025-10-01",
          "2025-10-02",
          "2025-10-03",
          "2025-10-06",
          "2025-10-07",
          "2025-10-08",
          "2025-10-09",
          "2025-10-13",
          "2025-10-14",
          "2025-10-15",
          "2025-10-16",
          "2025-10-17",
          "2025-10-20",
          "2025-10-21",
          "2025-10-22",
          "2025-10-23",
          "2025-10-24"
         ],
         "y": {
          "bdata": "AAAAAAAA+H8AAAAAAAD4fwAAAAAAcHlAAAAAAAAA+H8AAAAAAAD4fwAAAAAAAPh/AAAAAAAA+H8AAAAAAKB5QAAAAAAAAPh/AAAAAACQeUAAAAAAAAD4fwAAAAAAAPh/AAAAAAAA+H8AAAAAAAD4fwAAAAAAAPh/AAAAAACAeUAAAAAAAAD4fwAAAAAAAPh/AAAAAAAA+H8=",
          "dtype": "f8"
         }
        },
        {
         "hovertemplate": "%{x|%Y-%m-%d}<br>%{y:,.0f}<extra>DLR092025</extra>",
         "name": "DLR092025",
         "text": [
          "1.7M",
          "0",
          "nan",
          "nan",
          "nan",
          "nan",
          "nan",
          "nan",
          "nan",
          "nan",
          "nan",
          "nan",
          "nan",
          "nan",
          "nan",
          "nan",
          "nan",
          "nan",
          "nan"
         ],
         "type": "bar",
         "x": [
          "2025-09-29",
          "2025-09-30",
          "2025-10-01",
          "2025-10-02",
          "2025-10-03",
          "2025-10-06",
          "2025-10-07",
          "2025-10-08",
          "2025-10-09",
          "2025-10-13",
          "2025-10-14",
          "2025-10-15",
          "2025-10-16",
          "2025-10-17",
          "2025-10-20",
          "2025-10-21",
          "2025-10-22",
          "2025-10-23",
          "2025-10-24"
         ],
         "y": {
          "bdata": "AAAAAPHkOUEAAAAAAAAAAAAAAAAAAPh/AAAAAAAA+H8AAAAAAAD4fwAAAAAAAPh/AAAAAAAA+H8AAAAAAAD4fwAAAAAAAPh/AAAAAAAA+H8AAAAAAAD4fwAAAAAAAPh/AAAAAAAA+H8AAAAAAAD4fwAAAAAAAPh/AAAAAAAA+H8AAAAAAAD4fwAAAAAAAPh/AAAAAAAA+H8=",
          "dtype": "f8"
         }
        },
        {
         "hovertemplate": "%{x|%Y-%m-%d}<br>%{y:,.0f}<extra>DLR092026</extra>",
         "name": "DLR092026",
         "text": [
          "nan",
          "nan",
          "2",
          "nan",
          "nan",
          "nan",
          "nan",
          "nan",
          "4",
          "nan",
          "nan",
          "5",
          "nan",
          "nan",
          "6",
          "11",
          "12",
          "14",
          "19"
         ],
         "type": "bar",
         "x": [
          "2025-09-29",
          "2025-09-30",
          "2025-10-01",
          "2025-10-02",
          "2025-10-03",
          "2025-10-06",
          "2025-10-07",
          "2025-10-08",
          "2025-10-09",
          "2025-10-13",
          "2025-10-14",
          "2025-10-15",
          "2025-10-16",
          "2025-10-17",
          "2025-10-20",
          "2025-10-21",
          "2025-10-22",
          "2025-10-23",
          "2025-10-24"
         ],
         "y": {
          "bdata": "AAAAAAAA+H8AAAAAAAD4fwAAAAAAAABAAAAAAAAA+H8AAAAAAAD4fwAAAAAAAPh/AAAAAAAA+H8AAAAAAAD4fwAAAAAAABBAAAAAAAAA+H8AAAAAAAD4fwAAAAAAABRAAAAAAAAA+H8AAAAAAAD4fwAAAAAAABhAAAAAAAAAJkAAAAAAAAAoQAAAAAAAACxAAAAAAAAAM0A=",
          "dtype": "f8"
         }
        },
        {
         "hovertemplate": "%{x|%Y-%m-%d}<br>%{y:,.0f}<extra>DLR102025</extra>",
         "name": "DLR102025",
         "text": [
          "1.5M",
          "1.8M",
          "1.8M",
          "1.7M",
          "1.7M",
          "1.7M",
          "1.7M",
          "1.6M",
          "1.6M",
          "1.6M",
          "1.6M",
          "1.7M",
          "1.7M",
          "1.7M",
          "1.7M",
          "1.6M",
          "1.6M",
          "1.6M",
          "1.6M"
         ],
         "type": "bar",
         "x": [
          "2025-09-29",
          "2025-09-30",
          "2025-10-01",
          "2025-10-02",
          "2025-10-03",
          "2025-10-06",
          "2025-10-07",
          "2025-10-08",
          "2025-10-09",
          "2025-10-13",
          "2025-10-14",
          "2025-10-15",
          "2025-10-16",
          "2025-10-17",
          "2025-10-20",
          "2025-10-21",
          "2025-10-22",
          "2025-10-23",
          "2025-10-24"
         ],
         "y": {
          "bdata": "AAAAACZyN0EAAAAAGzw7QQAAAACCHTtBAAAAABNlOkEAAAAAwjU6QQAAAADh3zlBAAAAALVJOUEAAAAApbw4QQAAAABuYjhBAAAAAMjlN0EAAAAApN44QQAAAAA/XzpBAAAAABiCOUEAAAAA+ts5QQAAAAD2OjlBAAAAAMivOEEAAAAAV4A4QQAAAABV0TdBAAAAAN1BOEE=",
          "dtype": "f8"
         }
        },
        {
         "hovertemplate": "%{x|%Y-%m-%d}<br>%{y:,.0f}<extra>DLR112025</extra>",
         "name": "DLR112025",
         "text": [
          "1.4M",
          "1.5M",
          "1.5M",
          "1.5M",
          "1.4M",
          "1.5M",
          "1.5M",
          "1.5M",
          "1.7M",
          "1.6M",
          "1.7M",
          "1.7M",
          "1.7M",
          "1.7M",
          "1.7M",
          "1.8M",
          "1.8M",
          "1.8M",
          "1.9M"
         ],
         "type": "bar",
         "x": [
          "2025-09-29",
          "2025-09-30",
          "2025-10-01",
          "2025-10-02",
          "2025-10-03",
          "2025-10-06",
          "2025-10-07",
          "2025-10-08",
          "2025-10-09",
          "2025-10-13",
          "2025-10-14",
          "2025-10-15",
          "2025-10-16",
          "2025-10-17",
          "2025-10-20",
          "2025-10-21",
          "2025-10-22",
          "2025-10-23",
          "2025-10-24"
         ],
         "y": {
          "bdata": "AAAAANx/NUEAAAAAuDE2QQAAAABBjTZBAAAAAG10NkEAAAAARNs1QQAAAAArRzZBAAAAAAd9NkEAAAAAW543QQAAAADkSDlBAAAAAP36OEEAAAAAoag5QQAAAADXrTlBAAAAAIWQOkEAAAAA9m86QQAAAAAqqjpBAAAAAHTGOkEAAAAAMuc6QQAAAABXijtBAAAAAOZ6PEE=",
          "dtype": "f8"
         }
        },
        {
         "hovertemplate": "%{x|%Y-%m-%d}<br>%{y:,.0f}<extra>DLR122025</extra>",
         "name": "DLR122025",
         "text": [
          "1.4M",
          "1.4M",
          "1.4M",
          "1.4M",
          "1.4M",
          "1.4M",
          "1.4M",
          "1.4M",
          "1.4M",
          "1.4M",
          "1.4M",
          "1.4M",
          "1.4M",
          "1.4M",
          "1.4M",
          "1.4M",
          "1.4M",
          "1.4M",
          "1.4M"
         ],
         "type": "bar",
         "x": [
          "2025-09-29",
          "2025-09-30",
          "2025-10-01",
          "2025-10-02",
          "2025-10-03",
          "2025-10-06",
          "2025-10-07",
          "2025-10-08",
          "2025-10-09",
          "2025-10-13",
          "2025-10-14",
          "2025-10-15",
          "2025-10-16",
          "2025-10-17",
          "2025-10-20",
          "2025-10-21",
          "2025-10-22",
          "2025-10-23",
          "2025-10-24"
         ],
         "y": {
          "bdata": "AAAAAAAhNUEAAAAArgQ1QQAAAABlWjVBAAAAANVSNUEAAAAAEFo1QQAAAABBYTVBAAAAAOxLNUEAAAAAphk1QQAAAAD7hDVBAAAAABhvNUEAAAAAfCA1QQAAAACVPTVBAAAAANpPNUEAAAAA/jc1QQAAAACG/TRBAAAAAEA1NUEAAAAAcU41QQAAAACPcTVBAAAAABW1NUE=",
          "dtype": "f8"
         }
        }
       ],
       "layout": {
        "barmode": "stack",
        "height": 600,
        "hovermode": "x unified",
        "legend": {
         "title": {
          "text": "Open Interest"
         }
        },
        "template": {
         "data": {
          "bar": [
           {
            "error_x": {
             "color": "#2a3f5f"
            },
            "error_y": {
             "color": "#2a3f5f"
            },
            "marker": {
             "line": {
              "color": "#E5ECF6",
              "width": 0.5
             },
             "pattern": {
              "fillmode": "overlay",
              "size": 10,
              "solidity": 0.2
             }
            },
            "type": "bar"
           }
          ],
          "barpolar": [
           {
            "marker": {
             "line": {
              "color": "#E5ECF6",
              "width": 0.5
             },
             "pattern": {
              "fillmode": "overlay",
              "size": 10,
              "solidity": 0.2
             }
            },
            "type": "barpolar"
           }
          ],
          "carpet": [
           {
            "aaxis": {
             "endlinecolor": "#2a3f5f",
             "gridcolor": "white",
             "linecolor": "white",
             "minorgridcolor": "white",
             "startlinecolor": "#2a3f5f"
            },
            "baxis": {
             "endlinecolor": "#2a3f5f",
             "gridcolor": "white",
             "linecolor": "white",
             "minorgridcolor": "white",
             "startlinecolor": "#2a3f5f"
            },
            "type": "carpet"
           }
          ],
          "choropleth": [
           {
            "colorbar": {
             "outlinewidth": 0,
             "ticks": ""
            },
            "type": "choropleth"
           }
          ],
          "contour": [
           {
            "colorbar": {
             "outlinewidth": 0,
             "ticks": ""
            },
            "colorscale": [
             [
              0,
              "#0d0887"
             ],
             [
              0.1111111111111111,
              "#46039f"
             ],
             [
              0.2222222222222222,
              "#7201a8"
             ],
             [
              0.3333333333333333,
              "#9c179e"
             ],
             [
              0.4444444444444444,
              "#bd3786"
             ],
             [
              0.5555555555555556,
              "#d8576b"
             ],
             [
              0.6666666666666666,
              "#ed7953"
             ],
             [
              0.7777777777777778,
              "#fb9f3a"
             ],
             [
              0.8888888888888888,
              "#fdca26"
             ],
             [
              1,
              "#f0f921"
             ]
            ],
            "type": "contour"
           }
          ],
          "contourcarpet": [
           {
            "colorbar": {
             "outlinewidth": 0,
             "ticks": ""
            },
            "type": "contourcarpet"
           }
          ],
          "heatmap": [
           {
            "colorbar": {
             "outlinewidth": 0,
             "ticks": ""
            },
            "colorscale": [
             [
              0,
              "#0d0887"
             ],
             [
              0.1111111111111111,
              "#46039f"
             ],
             [
              0.2222222222222222,
              "#7201a8"
             ],
             [
              0.3333333333333333,
              "#9c179e"
             ],
             [
              0.4444444444444444,
              "#bd3786"
             ],
             [
              0.5555555555555556,
              "#d8576b"
             ],
             [
              0.6666666666666666,
              "#ed7953"
             ],
             [
              0.7777777777777778,
              "#fb9f3a"
             ],
             [
              0.8888888888888888,
              "#fdca26"
             ],
             [
              1,
              "#f0f921"
             ]
            ],
            "type": "heatmap"
           }
          ],
          "histogram": [
           {
            "marker": {
             "pattern": {
              "fillmode": "overlay",
              "size": 10,
              "solidity": 0.2
             }
            },
            "type": "histogram"
           }
          ],
          "histogram2d": [
           {
            "colorbar": {
             "outlinewidth": 0,
             "ticks": ""
            },
            "colorscale": [
             [
              0,
              "#0d0887"
             ],
             [
              0.1111111111111111,
              "#46039f"
             ],
             [
              0.2222222222222222,
              "#7201a8"
             ],
             [
              0.3333333333333333,
              "#9c179e"
             ],
             [
              0.4444444444444444,
              "#bd3786"
             ],
             [
              0.5555555555555556,
              "#d8576b"
             ],
             [
              0.6666666666666666,
              "#ed7953"
             ],
             [
              0.7777777777777778,
              "#fb9f3a"
             ],
             [
              0.8888888888888888,
              "#fdca26"
             ],
             [
              1,
              "#f0f921"
             ]
            ],
            "type": "histogram2d"
           }
          ],
          "histogram2dcontour": [
           {
            "colorbar": {
             "outlinewidth": 0,
             "ticks": ""
            },
            "colorscale": [
             [
              0,
              "#0d0887"
             ],
             [
              0.1111111111111111,
              "#46039f"
             ],
             [
              0.2222222222222222,
              "#7201a8"
             ],
             [
              0.3333333333333333,
              "#9c179e"
             ],
             [
              0.4444444444444444,
              "#bd3786"
             ],
             [
              0.5555555555555556,
              "#d8576b"
             ],
             [
              0.6666666666666666,
              "#ed7953"
             ],
             [
              0.7777777777777778,
              "#fb9f3a"
             ],
             [
              0.8888888888888888,
              "#fdca26"
             ],
             [
              1,
              "#f0f921"
             ]
            ],
            "type": "histogram2dcontour"
           }
          ],
          "mesh3d": [
           {
            "colorbar": {
             "outlinewidth": 0,
             "ticks": ""
            },
            "type": "mesh3d"
           }
          ],
          "parcoords": [
           {
            "line": {
             "colorbar": {
              "outlinewidth": 0,
              "ticks": ""
             }
            },
            "type": "parcoords"
           }
          ],
          "pie": [
           {
            "automargin": true,
            "type": "pie"
           }
          ],
          "scatter": [
           {
            "fillpattern": {
             "fillmode": "overlay",
             "size": 10,
             "solidity": 0.2
            },
            "type": "scatter"
           }
          ],
          "scatter3d": [
           {
            "line": {
             "colorbar": {
              "outlinewidth": 0,
              "ticks": ""
             }
            },
            "marker": {
             "colorbar": {
              "outlinewidth": 0,
              "ticks": ""
             }
            },
            "type": "scatter3d"
           }
          ],
          "scattercarpet": [
           {
            "marker": {
             "colorbar": {
              "outlinewidth": 0,
              "ticks": ""
             }
            },
            "type": "scattercarpet"
           }
          ],
          "scattergeo": [
           {
            "marker": {
             "colorbar": {
              "outlinewidth": 0,
              "ticks": ""
             }
            },
            "type": "scattergeo"
           }
          ],
          "scattergl": [
           {
            "marker": {
             "colorbar": {
              "outlinewidth": 0,
              "ticks": ""
             }
            },
            "type": "scattergl"
           }
          ],
          "scattermap": [
           {
            "marker": {
             "colorbar": {
              "outlinewidth": 0,
              "ticks": ""
             }
            },
            "type": "scattermap"
           }
          ],
          "scattermapbox": [
           {
            "marker": {
             "colorbar": {
              "outlinewidth": 0,
              "ticks": ""
             }
            },
            "type": "scattermapbox"
           }
          ],
          "scatterpolar": [
           {
            "marker": {
             "colorbar": {
              "outlinewidth": 0,
              "ticks": ""
             }
            },
            "type": "scatterpolar"
           }
          ],
          "scatterpolargl": [
           {
            "marker": {
             "colorbar": {
              "outlinewidth": 0,
              "ticks": ""
             }
            },
            "type": "scatterpolargl"
           }
          ],
          "scatterternary": [
           {
            "marker": {
             "colorbar": {
              "outlinewidth": 0,
              "ticks": ""
             }
            },
            "type": "scatterternary"
           }
          ],
          "surface": [
           {
            "colorbar": {
             "outlinewidth": 0,
             "ticks": ""
            },
            "colorscale": [
             [
              0,
              "#0d0887"
             ],
             [
              0.1111111111111111,
              "#46039f"
             ],
             [
              0.2222222222222222,
              "#7201a8"
             ],
             [
              0.3333333333333333,
              "#9c179e"
             ],
             [
              0.4444444444444444,
              "#bd3786"
             ],
             [
              0.5555555555555556,
              "#d8576b"
             ],
             [
              0.6666666666666666,
              "#ed7953"
             ],
             [
              0.7777777777777778,
              "#fb9f3a"
             ],
             [
              0.8888888888888888,
              "#fdca26"
             ],
             [
              1,
              "#f0f921"
             ]
            ],
            "type": "surface"
           }
          ],
          "table": [
           {
            "cells": {
             "fill": {
              "color": "#EBF0F8"
             },
             "line": {
              "color": "white"
             }
            },
            "header": {
             "fill": {
              "color": "#C8D4E3"
             },
             "line": {
              "color": "white"
             }
            },
            "type": "table"
           }
          ]
         },
         "layout": {
          "annotationdefaults": {
           "arrowcolor": "#2a3f5f",
           "arrowhead": 0,
           "arrowwidth": 1
          },
          "autotypenumbers": "strict",
          "coloraxis": {
           "colorbar": {
            "outlinewidth": 0,
            "ticks": ""
           }
          },
          "colorscale": {
           "diverging": [
            [
             0,
             "#8e0152"
            ],
            [
             0.1,
             "#c51b7d"
            ],
            [
             0.2,
             "#de77ae"
            ],
            [
             0.3,
             "#f1b6da"
            ],
            [
             0.4,
             "#fde0ef"
            ],
            [
             0.5,
             "#f7f7f7"
            ],
            [
             0.6,
             "#e6f5d0"
            ],
            [
             0.7,
             "#b8e186"
            ],
            [
             0.8,
             "#7fbc41"
            ],
            [
             0.9,
             "#4d9221"
            ],
            [
             1,
             "#276419"
            ]
           ],
           "sequential": [
            [
             0,
             "#0d0887"
            ],
            [
             0.1111111111111111,
             "#46039f"
            ],
            [
             0.2222222222222222,
             "#7201a8"
            ],
            [
             0.3333333333333333,
             "#9c179e"
            ],
            [
             0.4444444444444444,
             "#bd3786"
            ],
            [
             0.5555555555555556,
             "#d8576b"
            ],
            [
             0.6666666666666666,
             "#ed7953"
            ],
            [
             0.7777777777777778,
             "#fb9f3a"
            ],
            [
             0.8888888888888888,
             "#fdca26"
            ],
            [
             1,
             "#f0f921"
            ]
           ],
           "sequentialminus": [
            [
             0,
             "#0d0887"
            ],
            [
             0.1111111111111111,
             "#46039f"
            ],
            [
             0.2222222222222222,
             "#7201a8"
            ],
            [
             0.3333333333333333,
             "#9c179e"
            ],
            [
             0.4444444444444444,
             "#bd3786"
            ],
            [
             0.5555555555555556,
             "#d8576b"
            ],
            [
             0.6666666666666666,
             "#ed7953"
            ],
            [
             0.7777777777777778,
             "#fb9f3a"
            ],
            [
             0.8888888888888888,
             "#fdca26"
            ],
            [
             1,
             "#f0f921"
            ]
           ]
          },
          "colorway": [
           "#636efa",
           "#EF553B",
           "#00cc96",
           "#ab63fa",
           "#FFA15A",
           "#19d3f3",
           "#FF6692",
           "#B6E880",
           "#FF97FF",
           "#FECB52"
          ],
          "font": {
           "color": "#2a3f5f"
          },
          "geo": {
           "bgcolor": "white",
           "lakecolor": "white",
           "landcolor": "#E5ECF6",
           "showlakes": true,
           "showland": true,
           "subunitcolor": "white"
          },
          "hoverlabel": {
           "align": "left"
          },
          "hovermode": "closest",
          "mapbox": {
           "style": "light"
          },
          "paper_bgcolor": "white",
          "plot_bgcolor": "#E5ECF6",
          "polar": {
           "angularaxis": {
            "gridcolor": "white",
            "linecolor": "white",
            "ticks": ""
           },
           "bgcolor": "#E5ECF6",
           "radialaxis": {
            "gridcolor": "white",
            "linecolor": "white",
            "ticks": ""
           }
          },
          "scene": {
           "xaxis": {
            "backgroundcolor": "#E5ECF6",
            "gridcolor": "white",
            "gridwidth": 2,
            "linecolor": "white",
            "showbackground": true,
            "ticks": "",
            "zerolinecolor": "white"
           },
           "yaxis": {
            "backgroundcolor": "#E5ECF6",
            "gridcolor": "white",
            "gridwidth": 2,
            "linecolor": "white",
            "showbackground": true,
            "ticks": "",
            "zerolinecolor": "white"
           },
           "zaxis": {
            "backgroundcolor": "#E5ECF6",
            "gridcolor": "white",
            "gridwidth": 2,
            "linecolor": "white",
            "showbackground": true,
            "ticks": "",
            "zerolinecolor": "white"
           }
          },
          "shapedefaults": {
           "line": {
            "color": "#2a3f5f"
           }
          },
          "ternary": {
           "aaxis": {
            "gridcolor": "white",
            "linecolor": "white",
            "ticks": ""
           },
           "baxis": {
            "gridcolor": "white",
            "linecolor": "white",
            "ticks": ""
           },
           "bgcolor": "#E5ECF6",
           "caxis": {
            "gridcolor": "white",
            "linecolor": "white",
            "ticks": ""
           }
          },
          "title": {
           "x": 0.05
          },
          "xaxis": {
           "automargin": true,
           "gridcolor": "white",
           "linecolor": "white",
           "ticks": "",
           "title": {
            "standoff": 15
           },
           "zerolinecolor": "white",
           "zerolinewidth": 2
          },
          "yaxis": {
           "automargin": true,
           "gridcolor": "white",
           "linecolor": "white",
           "ticks": "",
           "title": {
            "standoff": 15
           },
           "zerolinecolor": "white",
           "zerolinewidth": 2
          }
         }
        },
        "title": {
         "text": "Open Interest Over Time"
        },
        "width": 1000,
        "xaxis": {
         "title": {
          "text": "Date"
         },
         "type": "category"
        },
        "yaxis": {
         "title": {
          "text": "Open Interest"
         }
        }
       }
      }
     },
     "metadata": {},
     "output_type": "display_data"
    }
   ],
   "source": [
    "\n",
    "plot_futures_plotly(data=volume, kind='bar', ylabel=\"Volume\", title=\"Volume Over Time\", legend_name = \"Volume\")\n",
    "plot_futures_plotly(data=openInterest, kind='bar', ylabel=\"Open Interest\", title=\"Open Interest Over Time\", legend_name = \"Open Interest\")"
   ]
  },
  {
   "cell_type": "code",
   "execution_count": null,
   "metadata": {},
   "outputs": [],
   "source": [
    "!py -3.10 -m nbconvert --no-input --to html index.ipynb -output index.html"
   ]
  }
 ],
 "metadata": {
  "kernelspec": {
   "display_name": "Python 3",
   "language": "python",
   "name": "python3"
  },
  "language_info": {
   "codemirror_mode": {
    "name": "ipython",
    "version": 3
   },
   "file_extension": ".py",
   "mimetype": "text/x-python",
   "name": "python",
   "nbconvert_exporter": "python",
   "pygments_lexer": "ipython3",
   "version": "3.10.11"
  }
 },
 "nbformat": 4,
 "nbformat_minor": 4
}
